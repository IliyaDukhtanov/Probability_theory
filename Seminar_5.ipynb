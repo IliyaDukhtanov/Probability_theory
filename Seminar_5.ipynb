{
 "cells": [
  {
   "cell_type": "markdown",
   "id": "22911e40",
   "metadata": {},
   "source": [
    "Ниже приведены диаметры коронарных артерий после приема\n",
    "нифедипина и плацебо. Позволяют\n",
    "ли приводимые ниже данные утверждать, что нифедипин влияет на диаметр коронарных артерий?\n",
    "1. Выполнить расчеты в Python\n",
    "2. Сделайте расчет в ручную\n",
    "3. Сравните критерий Стьюдента и p value со значениями, полученными в Python\n",
    "x =np.array ([2.5, 2.2, 2.6, 2, 2.1, 1.8,2.4, 2.3, 2.7, 2.7, 1.9])\n",
    "y=np.array ([2.5, 1.7, 1.5, 2.5, 1.4, 1.9, 2.3, 2.0, 2.6, 2.3, 2.2])\n",
    "\n",
    "t =\n"
   ]
  },
  {
   "cell_type": "code",
   "execution_count": 4,
   "id": "9c880594",
   "metadata": {},
   "outputs": [],
   "source": [
    "import scipy.stats as stats\n",
    "import numpy as np"
   ]
  },
  {
   "cell_type": "code",
   "execution_count": 5,
   "id": "399fee1d",
   "metadata": {},
   "outputs": [
    {
     "data": {
      "text/plain": [
       "array([2.5, 2.2, 2.6, 2. , 2.1, 1.8, 2.4, 2.3, 2.7, 2.7, 1.9])"
      ]
     },
     "execution_count": 5,
     "metadata": {},
     "output_type": "execute_result"
    }
   ],
   "source": [
    "x = np.array ([2.5, 2.2, 2.6, 2, 2.1, 1.8,2.4, 2.3, 2.7, 2.7, 1.9])\n",
    "x"
   ]
  },
  {
   "cell_type": "code",
   "execution_count": 6,
   "id": "200e5f7e",
   "metadata": {},
   "outputs": [
    {
     "data": {
      "text/plain": [
       "array([2.5, 1.7, 1.5, 2.5, 1.4, 1.9, 2.3, 2. , 2.6, 2.3, 2.2])"
      ]
     },
     "execution_count": 6,
     "metadata": {},
     "output_type": "execute_result"
    }
   ],
   "source": [
    "y= np.array([2.5, 1.7, 1.5, 2.5, 1.4, 1.9, 2.3, 2.0, 2.6, 2.3, 2.2])\n",
    "y"
   ]
  },
  {
   "cell_type": "code",
   "execution_count": 7,
   "id": "b15472c9",
   "metadata": {},
   "outputs": [
    {
     "data": {
      "text/plain": [
       "Ttest_indResult(statistic=1.3283484757831463, pvalue=0.19902265798859647)"
      ]
     },
     "execution_count": 7,
     "metadata": {},
     "output_type": "execute_result"
    }
   ],
   "source": [
    "stats.ttest_ind(x, y)"
   ]
  },
  {
   "cell_type": "markdown",
   "id": "e7076b1e",
   "metadata": {},
   "source": [
    "Принимаем H0"
   ]
  },
  {
   "cell_type": "code",
   "execution_count": 8,
   "id": "9e70c9d1",
   "metadata": {},
   "outputs": [
    {
     "data": {
      "text/plain": [
       "0.10090909090909095"
      ]
     },
     "execution_count": 8,
     "metadata": {},
     "output_type": "execute_result"
    }
   ],
   "source": [
    "d1=np.var(x, ddof=1)\n",
    "d1"
   ]
  },
  {
   "cell_type": "code",
   "execution_count": 9,
   "id": "45a10bcc",
   "metadata": {},
   "outputs": [
    {
     "data": {
      "text/plain": [
       "0.17163636363636364"
      ]
     },
     "execution_count": 9,
     "metadata": {},
     "output_type": "execute_result"
    }
   ],
   "source": [
    "d2=np.var(y, ddof=1)\n",
    "d2"
   ]
  },
  {
   "cell_type": "code",
   "execution_count": 10,
   "id": "d61d2b67",
   "metadata": {},
   "outputs": [
    {
     "data": {
      "text/plain": [
       "2.2909090909090906"
      ]
     },
     "execution_count": 10,
     "metadata": {},
     "output_type": "execute_result"
    }
   ],
   "source": [
    "m1=np.mean(x)\n",
    "m1"
   ]
  },
  {
   "cell_type": "code",
   "execution_count": 11,
   "id": "8623804b",
   "metadata": {},
   "outputs": [
    {
     "data": {
      "text/plain": [
       "2.0818181818181816"
      ]
     },
     "execution_count": 11,
     "metadata": {},
     "output_type": "execute_result"
    }
   ],
   "source": [
    "m2=np.mean(y)\n",
    "m2"
   ]
  },
  {
   "cell_type": "code",
   "execution_count": 12,
   "id": "e21cdaf9",
   "metadata": {},
   "outputs": [
    {
     "data": {
      "text/plain": [
       "1.3283484757831465"
      ]
     },
     "execution_count": 12,
     "metadata": {},
     "output_type": "execute_result"
    }
   ],
   "source": [
    "(m1-m2)/np.sqrt(d1/11 + d2/11)"
   ]
  },
  {
   "cell_type": "markdown",
   "id": "cfa920ce",
   "metadata": {},
   "source": [
    "Табличное значение критерия Стьюдента 2.086 \n",
    "Вывод: принимаем H0"
   ]
  },
  {
   "cell_type": "code",
   "execution_count": null,
   "id": "49fa3bb3",
   "metadata": {},
   "outputs": [],
   "source": []
  }
 ],
 "metadata": {
  "kernelspec": {
   "display_name": "Python 3 (ipykernel)",
   "language": "python",
   "name": "python3"
  },
  "language_info": {
   "codemirror_mode": {
    "name": "ipython",
    "version": 3
   },
   "file_extension": ".py",
   "mimetype": "text/x-python",
   "name": "python",
   "nbconvert_exporter": "python",
   "pygments_lexer": "ipython3",
   "version": "3.9.13"
  }
 },
 "nbformat": 4,
 "nbformat_minor": 5
}
