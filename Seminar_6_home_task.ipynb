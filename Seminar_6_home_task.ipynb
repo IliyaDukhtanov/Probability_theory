{
 "cells": [
  {
   "cell_type": "markdown",
   "id": "3a381b15",
   "metadata": {},
   "source": [
    "**ДЗ семинар 6.   \n",
    "Сравнение долей. Построение доверительных интервалов.**"
   ]
  },
  {
   "cell_type": "markdown",
   "id": "08063473",
   "metadata": {},
   "source": [
    "*Задача 1:    \n",
    "Известно, что генеральная совокупность распределена нормально\n",
    "со средним квадратическим отклонением, равным 16.\n",
    "Найти доверительный интервал для оценки математического ожидания a с надежностью 0.95,\n",
    "если выборочная средняя M = 80, а объем выборки n = 256.*"
   ]
  },
  {
   "cell_type": "markdown",
   "id": "c82e7126",
   "metadata": {},
   "source": [
    "Доверительный интервал найдем по формуле $\\bar X$ ± $\\displaystyle Z_{α/2}$*$\\frac{σ}{\\sqrt[ ]{n}}$,    \n",
    "где $\\bar X$ - выборочная средняя M = 80, n = 256, σ = 16 и α = (1 - 0,95) = 0,05   \n",
    "$\\displaystyle Z_{α/2}$ находим по Z-таблице равным 1,96 \n",
    "   \n",
    "Доверительный интервал для 95% вероятности $\\left[80-1.96\\cdot\\frac{16}{\\sqrt 256};80+1.96\\cdot\\frac{16}{\\sqrt 256}\\right]$ "
   ]
  },
  {
   "cell_type": "code",
   "execution_count": 8,
   "id": "6bee1634",
   "metadata": {},
   "outputs": [
    {
     "name": "stdout",
     "output_type": "stream",
     "text": [
      "Доверительный интервал для оценки математического ожидания с надежностью 0.95: [78.04; 81.96]\n"
     ]
    }
   ],
   "source": [
    "left = 80 - 1.96*16/256 ** 0.5\n",
    "right = 80 + 1.96*16/256 ** 0.5\n",
    "print(f\"Доверительный интервал для оценки математического ожидания с надежностью 0.95: [{left}; {right}]\")"
   ]
  },
  {
   "cell_type": "markdown",
   "id": "f2b0c99d",
   "metadata": {},
   "source": [
    "\n",
    "*Ответ: [78.04; 81.96]*  \n",
    "\n",
    "    \n",
    "    "
   ]
  },
  {
   "cell_type": "markdown",
   "id": "444da855",
   "metadata": {},
   "source": [
    " "
   ]
  },
  {
   "cell_type": "markdown",
   "id": "1830eb73",
   "metadata": {},
   "source": [
    "*Задача 2: \n",
    "В результате 10 независимых измерений некоторой величины X, выполненных с одинаковой точностью, получены опытные данные:   \n",
    "6.9, 6.1, 6.2, 6.8, 7.5, 6.3, 6.4, 6.9, 6.7, 6.1    \n",
    "Предполагая, что результаты измерений подчинены нормальному закону распределения вероятностей, оценить истинное значение величины X при помощи доверительного интервала, покрывающего это значение с доверительной вероятностью 0,95.*"
   ]
  },
  {
   "cell_type": "markdown",
   "id": "dc61951f",
   "metadata": {},
   "source": [
    "Т.к.σ неизвестна, доверительный интервал найдем по формуле: $\\bar X$ ± $\\displaystyle t_{α/2}$*$\\frac{σ_{несмещ.}}{\\sqrt[ ]{n}}$,    \n",
    "где $\\bar X$ - выборочная средняя из имеющихся опытных данных, n = 10 и α = (1 - 0,95) = 0,05   "
   ]
  },
  {
   "cell_type": "markdown",
   "id": "29bff213",
   "metadata": {},
   "source": [
    "Найдем $\\bar X$ выборки 6.9, 6.1, 6.2, 6.8, 7.5, 6.3, 6.4, 6.9, 6.7, 6.1   "
   ]
  },
  {
   "cell_type": "code",
   "execution_count": 17,
   "id": "fcf38eb4",
   "metadata": {},
   "outputs": [],
   "source": [
    "import numpy as np\n",
    "import scipy.stats as stats"
   ]
  },
  {
   "cell_type": "code",
   "execution_count": 20,
   "id": "fa814ea8",
   "metadata": {},
   "outputs": [],
   "source": [
    "a = np.array([6.9, 6.1, 6.2, 6.8, 7.5, 6.3, 6.4, 6.9, 6.7, 6.1])\n",
    "n = 10 \n",
    "alfa = 0.05"
   ]
  },
  {
   "cell_type": "code",
   "execution_count": 21,
   "id": "ae5497b4",
   "metadata": {},
   "outputs": [
    {
     "data": {
      "text/plain": [
       "6.590000000000001"
      ]
     },
     "execution_count": 21,
     "metadata": {},
     "output_type": "execute_result"
    }
   ],
   "source": [
    "x1 = np.mean(a)\n",
    "x1"
   ]
  },
  {
   "cell_type": "markdown",
   "id": "b1edea16",
   "metadata": {},
   "source": [
    "Найдем несмещённое среднеквадратичное отклонение $\\displaystyle σ_{несмещ.}$ выборки 6.9, 6.1, 6.2, 6.8, 7.5, 6.3, 6.4, 6.9, 6.7, 6.1 "
   ]
  },
  {
   "cell_type": "code",
   "execution_count": 22,
   "id": "df5de892",
   "metadata": {},
   "outputs": [
    {
     "data": {
      "text/plain": [
       "0.4508017549014448"
      ]
     },
     "execution_count": 22,
     "metadata": {},
     "output_type": "execute_result"
    }
   ],
   "source": [
    "sigma = np.std(a, ddof=1)\n",
    "sigma"
   ]
  },
  {
   "cell_type": "markdown",
   "id": "d8a11b28",
   "metadata": {},
   "source": [
    "Значение t найдём по таблице для n = 9 и α = 0,05    \n",
    "t1 = 2.262    \n",
    "Или найдем с помощью функции: "
   ]
  },
  {
   "cell_type": "code",
   "execution_count": 23,
   "id": "eedc1250",
   "metadata": {},
   "outputs": [
    {
     "data": {
      "text/plain": [
       "2.2621571627409915"
      ]
     },
     "execution_count": 23,
     "metadata": {},
     "output_type": "execute_result"
    }
   ],
   "source": [
    "t1 = stats.t.ppf (1-alfa/2, n-1)\n",
    "t1"
   ]
  },
  {
   "cell_type": "markdown",
   "id": "d5bad80c",
   "metadata": {},
   "source": [
    "Подставим все известные значения в формулу: "
   ]
  },
  {
   "cell_type": "code",
   "execution_count": 31,
   "id": "d88b77a7",
   "metadata": {},
   "outputs": [
    {
     "name": "stdout",
     "output_type": "stream",
     "text": [
      "Доверительный интервал для вероятности 0,95: [6.2675; 6.9125]\n"
     ]
    }
   ],
   "source": [
    "left = x1 - t1*sigma/n ** 0.5\n",
    "right = x1 + t1*sigma/n ** 0.5\n",
    "print(f'Доверительный интервал для вероятности 0,95: [{left:.4f}; {right:.4f}]')"
   ]
  },
  {
   "cell_type": "markdown",
   "id": "e73ae973",
   "metadata": {},
   "source": [
    "*Ответ: [6.2675; 6.9125]*"
   ]
  },
  {
   "cell_type": "markdown",
   "id": "8aab1e56",
   "metadata": {},
   "source": [
    " "
   ]
  },
  {
   "cell_type": "markdown",
   "id": "6026d348",
   "metadata": {},
   "source": [
    "*Задача 3:      \n",
    "Рост матерей 178, 165, 165, 173, 168, 155, 160, 164, 178, 175    \n",
    "Рост дочерей 175, 167, 154, 174, 178, 148, 160, 167, 169, 170   \n",
    "Используя эти данные построить 95% доверительный интервал для разности среднего роста родителей и детей.*"
   ]
  },
  {
   "cell_type": "markdown",
   "id": "a02f88c2",
   "metadata": {},
   "source": [
    "Доверительный интервал для разности средних значений найдем по формуле: $Δ$ ± $\\displaystyle t_{α/2}$*$S_Δ$, где    \n",
    "$Δ$ - разность между средними арифметическимы выборок роста матерей и роста дочерей  \n",
    "Стандартная ошибка разности средних вычисляется по формуле $S_Δ$ = $\\displaystyle \\sqrt {\\frac {D_1}{n_1} + \\frac {D_2}{n_2}}$, где $n_1$ $n_2$ - объёмы выборок, а $D_1$ и $D_2$ - дисперсии выборок \n"
   ]
  },
  {
   "cell_type": "code",
   "execution_count": 56,
   "id": "f0c2d524",
   "metadata": {},
   "outputs": [],
   "source": [
    "m = np.array([178, 165, 165, 173, 168, 155, 160, 164, 178, 175])   # выборка по матерям\n",
    "d = np.array([175, 167, 154, 174, 178, 148, 160, 167, 169, 170])   # выборка по дочерям"
   ]
  },
  {
   "cell_type": "markdown",
   "id": "7524d2cc",
   "metadata": {},
   "source": [
    "Вычислим средние арифметические выборок и $Δ$: "
   ]
  },
  {
   "cell_type": "code",
   "execution_count": 57,
   "id": "e3bcf04b",
   "metadata": {},
   "outputs": [
    {
     "name": "stdout",
     "output_type": "stream",
     "text": [
      "Среднее арифметическое по выборке матерей 168.1\n",
      "Среднее арифметическое по выборке дочерей 166.2\n",
      "Δ = 1.9\n"
     ]
    }
   ],
   "source": [
    "x1 = np.mean(m)\n",
    "x2 = np.mean(d)\n",
    "delta = x1-x2\n",
    "print(f'Среднее арифметическое по выборке матерей {x1}\\n' f'Среднее арифметическое по выборке дочерей {x2}\\n' f'Δ = {delta:.1f}')"
   ]
  },
  {
   "cell_type": "markdown",
   "id": "dad3f061",
   "metadata": {},
   "source": [
    "Вычислим $D_1$, $D_2$ и $S_Δ$:"
   ]
  },
  {
   "cell_type": "code",
   "execution_count": 58,
   "id": "eb2e6902",
   "metadata": {},
   "outputs": [
    {
     "name": "stdout",
     "output_type": "stream",
     "text": [
      "Стандартная ошибка разности средних SΔ = 3.8880\n"
     ]
    }
   ],
   "source": [
    "D1 = np.var(m, ddof=1)\n",
    "D2 = np.var(d, ddof=1)\n",
    "SE = (D1/len(m) + D2/len(d)) ** 0.5\n",
    "print(f'Стандартная ошибка разности средних SΔ = {SE:.4f}')"
   ]
  },
  {
   "cell_type": "markdown",
   "id": "9f0d0783",
   "metadata": {},
   "source": [
    "Найдём значение $\\displaystyle t_{α/2}$ по таблице или вычислим по формуле: "
   ]
  },
  {
   "cell_type": "code",
   "execution_count": 59,
   "id": "144b8b40",
   "metadata": {},
   "outputs": [
    {
     "name": "stdout",
     "output_type": "stream",
     "text": [
      "Значение t = 2.1009\n"
     ]
    }
   ],
   "source": [
    "alfa = 0.05\n",
    "n = 2*(len(m) - 1)\n",
    "t = stats.t.ppf(1-alfa/2, n)\n",
    "print(f'Значение t = {t:.4f}')"
   ]
  },
  {
   "cell_type": "markdown",
   "id": "797f186c",
   "metadata": {},
   "source": [
    "Найдём интервал используя полученные значения: "
   ]
  },
  {
   "cell_type": "code",
   "execution_count": 60,
   "id": "9bd3a890",
   "metadata": {},
   "outputs": [
    {
     "name": "stdout",
     "output_type": "stream",
     "text": [
      "Доверительный интервал разности среднего роста матерей и дочерей для вероятности 0,95: [-6.2684; 10.0684]\n"
     ]
    }
   ],
   "source": [
    "left = delta - t*SE\n",
    "right = delta + t*SE\n",
    "print(f\"Доверительный интервал разности среднего роста матерей и дочерей для вероятности 0,95: [{left:.4f}; {right:.4f}]\")"
   ]
  },
  {
   "cell_type": "markdown",
   "id": "aa276b89",
   "metadata": {},
   "source": [
    "*Ответ: [-6.2684; 10.0684]*"
   ]
  },
  {
   "cell_type": "code",
   "execution_count": null,
   "id": "52eef55a",
   "metadata": {},
   "outputs": [],
   "source": []
  }
 ],
 "metadata": {
  "kernelspec": {
   "display_name": "Python 3 (ipykernel)",
   "language": "python",
   "name": "python3"
  },
  "language_info": {
   "codemirror_mode": {
    "name": "ipython",
    "version": 3
   },
   "file_extension": ".py",
   "mimetype": "text/x-python",
   "name": "python",
   "nbconvert_exporter": "python",
   "pygments_lexer": "ipython3",
   "version": "3.9.13"
  }
 },
 "nbformat": 4,
 "nbformat_minor": 5
}
