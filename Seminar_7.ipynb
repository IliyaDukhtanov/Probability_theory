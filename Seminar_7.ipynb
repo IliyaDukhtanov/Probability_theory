{
 "cells": [
  {
   "cell_type": "code",
   "execution_count": 1,
   "id": "15b792e0",
   "metadata": {},
   "outputs": [],
   "source": [
    "import numpy as np\n",
    "import scipy.stats as stats"
   ]
  },
  {
   "cell_type": "code",
   "execution_count": 4,
   "id": "d2356f26",
   "metadata": {},
   "outputs": [],
   "source": [
    "x= np.array([20, 17, 14, 42, 50, 62, 8, 49, 81, 54, 48, 55, 56])\n",
    "y= np.array ([20, 26, 1, 24, 1, 47, 15, 7, 65, 9, 21, 36, 30])"
   ]
  },
  {
   "cell_type": "code",
   "execution_count": 5,
   "id": "3bfdae00",
   "metadata": {},
   "outputs": [
    {
     "data": {
      "text/plain": [
       "WilcoxonResult(statistic=3.0, pvalue=0.004741768038406972)"
      ]
     },
     "execution_count": 5,
     "metadata": {},
     "output_type": "execute_result"
    }
   ],
   "source": [
    "stats.wilcoxon(x, y)"
   ]
  },
  {
   "cell_type": "code",
   "execution_count": 6,
   "id": "e1dd01ef",
   "metadata": {},
   "outputs": [],
   "source": [
    "a= np.array([32, 41, 51, 29, 76, 47, 60, 58, 40, 64, 73, 66, 73])\n",
    "b= np.array ([42, 90, 71, 47, 56, 43, 137, 63, 28, 60, 87, 69, 50])"
   ]
  },
  {
   "cell_type": "code",
   "execution_count": 7,
   "id": "48205d58",
   "metadata": {},
   "outputs": [
    {
     "data": {
      "text/plain": [
       "WilcoxonResult(statistic=31.5, pvalue=0.339599609375)"
      ]
     },
     "execution_count": 7,
     "metadata": {},
     "output_type": "execute_result"
    }
   ],
   "source": [
    "stats.wilcoxon(a, b)"
   ]
  },
  {
   "cell_type": "code",
   "execution_count": 8,
   "id": "830cbb4c",
   "metadata": {},
   "outputs": [],
   "source": [
    "a = np.array([3.5, 3.3, 4.9, 3.6])\n",
    "b = np.array([8.6, 5.4, 8.8, 5.6])\n",
    "c = np.array([5.1, 8.6, 7.7, 5.0])"
   ]
  },
  {
   "cell_type": "code",
   "execution_count": 10,
   "id": "fb15a5f3",
   "metadata": {},
   "outputs": [
    {
     "data": {
      "text/plain": [
       "FriedmanchisquareResult(statistic=6.5, pvalue=0.03877420783172202)"
      ]
     },
     "execution_count": 10,
     "metadata": {},
     "output_type": "execute_result"
    }
   ],
   "source": [
    "stats.friedmanchisquare(a, b, c)"
   ]
  },
  {
   "cell_type": "code",
   "execution_count": 11,
   "id": "52691d06",
   "metadata": {},
   "outputs": [],
   "source": [
    "gr1 = ([0.5, 0.7, 1, 1.2, 1.4])\n",
    "gr2 = ([1.3, 1.45, 1.6, 1.7, 1.8])\n",
    "gr3 = ([6.2, 12.6, 13.2, 14.1, 14.2])"
   ]
  },
  {
   "cell_type": "code",
   "execution_count": 12,
   "id": "57280492",
   "metadata": {},
   "outputs": [
    {
     "data": {
      "text/plain": [
       "KruskalResult(statistic=12.02000000000001, pvalue=0.002454088180413905)"
      ]
     },
     "execution_count": 12,
     "metadata": {},
     "output_type": "execute_result"
    }
   ],
   "source": [
    "stats.kruskal(gr1, gr2, gr3)"
   ]
  },
  {
   "cell_type": "code",
   "execution_count": null,
   "id": "1f94ae49",
   "metadata": {},
   "outputs": [],
   "source": []
  }
 ],
 "metadata": {
  "kernelspec": {
   "display_name": "Python 3 (ipykernel)",
   "language": "python",
   "name": "python3"
  },
  "language_info": {
   "codemirror_mode": {
    "name": "ipython",
    "version": 3
   },
   "file_extension": ".py",
   "mimetype": "text/x-python",
   "name": "python",
   "nbconvert_exporter": "python",
   "pygments_lexer": "ipython3",
   "version": "3.9.13"
  }
 },
 "nbformat": 4,
 "nbformat_minor": 5
}
