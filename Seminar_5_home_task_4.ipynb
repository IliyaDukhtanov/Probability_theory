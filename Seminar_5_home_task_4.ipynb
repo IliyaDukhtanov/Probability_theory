{
 "cells": [
  {
   "cell_type": "markdown",
   "id": "191109c1",
   "metadata": {},
   "source": [
    "Задание 4 решать с помощью функции. \n",
    "Есть ли статистически значимые различия в росте дочерей?\n",
    "Рост матерей 172, 177, 158, 170, 178,175, 164, 160, 169\n",
    "Рост взрослых дочерей: 173, 175, 162, 174, 175, 168, 155, 170, 160"
   ]
  },
  {
   "cell_type": "code",
   "execution_count": 5,
   "id": "e36d7aea",
   "metadata": {},
   "outputs": [],
   "source": [
    "import scipy.stats as stats\n",
    "import numpy as np"
   ]
  },
  {
   "cell_type": "code",
   "execution_count": 6,
   "id": "c8c2d6ae",
   "metadata": {},
   "outputs": [
    {
     "data": {
      "text/plain": [
       "array([172, 177, 158, 170, 178, 175, 164, 160, 169])"
      ]
     },
     "execution_count": 6,
     "metadata": {},
     "output_type": "execute_result"
    }
   ],
   "source": [
    "x=np.array([172, 177, 158, 170, 178,175, 164, 160, 169]) # массив с ростом матерей\n",
    "x"
   ]
  },
  {
   "cell_type": "code",
   "execution_count": 7,
   "id": "fd87e2b4",
   "metadata": {},
   "outputs": [
    {
     "data": {
      "text/plain": [
       "array([173, 175, 162, 174, 175, 168, 155, 170, 160])"
      ]
     },
     "execution_count": 7,
     "metadata": {},
     "output_type": "execute_result"
    }
   ],
   "source": [
    "y=np.array([173, 175, 162, 174, 175, 168, 155, 170, 160]) # массив с ростом взрослых дочерей\n",
    "y"
   ]
  },
  {
   "cell_type": "markdown",
   "id": "2add7f81",
   "metadata": {},
   "source": [
    "По условию задания значение σ не известно.   \n",
    "Гипотеза $\\displaystyle H_0$: $µ = µ_0$   \n",
    "Гипотеза $\\displaystyle H_0$: $µ ≠ µ_0$   \n",
    "Зададим α = 0,05    \n",
    "Выбираем тест по критерию Стьюдента для независимых выборок.    \n",
    "Воспользуемся функцией:"
   ]
  },
  {
   "cell_type": "code",
   "execution_count": 8,
   "id": "19122d84",
   "metadata": {},
   "outputs": [
    {
     "data": {
      "text/plain": [
       "Ttest_indResult(statistic=0.35581195161541973, pvalue=0.7266292679160495)"
      ]
     },
     "execution_count": 8,
     "metadata": {},
     "output_type": "execute_result"
    }
   ],
   "source": [
    "stats.ttest_ind(x,y)"
   ]
  },
  {
   "cell_type": "markdown",
   "id": "bbe8544f",
   "metadata": {},
   "source": [
    "В результате получили $\\displaystyle t_н$ = 0.3558 и p-value = 0.7266   \n",
    "Вывод: т.к. p-value > α, принимаем гипотезу $\\displaystyle H_0$"
   ]
  },
  {
   "cell_type": "code",
   "execution_count": null,
   "id": "a82fcce4",
   "metadata": {},
   "outputs": [],
   "source": []
  }
 ],
 "metadata": {
  "kernelspec": {
   "display_name": "Python 3 (ipykernel)",
   "language": "python",
   "name": "python3"
  },
  "language_info": {
   "codemirror_mode": {
    "name": "ipython",
    "version": 3
   },
   "file_extension": ".py",
   "mimetype": "text/x-python",
   "name": "python",
   "nbconvert_exporter": "python",
   "pygments_lexer": "ipython3",
   "version": "3.9.13"
  }
 },
 "nbformat": 4,
 "nbformat_minor": 5
}
