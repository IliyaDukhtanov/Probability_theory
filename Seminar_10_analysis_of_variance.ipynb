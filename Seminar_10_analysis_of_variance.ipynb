{
 "cells": [
  {
   "cell_type": "markdown",
   "id": "00ec243d",
   "metadata": {},
   "source": [
    "### Семинар 10. \n",
    "### Дисперсионный анализ."
   ]
  },
  {
   "cell_type": "code",
   "execution_count": 28,
   "id": "0fa7e23d",
   "metadata": {},
   "outputs": [],
   "source": [
    "import numpy as np\n",
    "import matplotlib.pyplot as plt\n",
    "import scipy.stats as stats\n",
    "import statsmodels.api as sm\n",
    "import pandas as pd\n",
    "from statsmodels.stats.multicomp import pairwise_tukeyhsd\n",
    "from scipy.stats import bartlett"
   ]
  },
  {
   "cell_type": "markdown",
   "id": "cda287b9",
   "metadata": {},
   "source": [
    "*Задача 1:    \n",
    "Есть ли различие между процентным содержанием изотопов плутония?    \n",
    "Используйте функции в Python.\n",
    "Провести предварительный разведочный анализ (проверку на нормальность и равенство\n",
    "дисперсий*)*"
   ]
  },
  {
   "cell_type": "code",
   "execution_count": 27,
   "id": "4f3966e0",
   "metadata": {},
   "outputs": [],
   "source": [
    "pu_238 = np.array([0.126, 0.133, 0.127, 0.156, 0.503, 0.113, 0.129, 0.124, 1.022, 1.412, 1.533, 1.534, 1.437, 1.439, 1.375, 1.153, 0.201, 0.176, 0.239, 0.102, 1.070, 0.851, 0.125, 0.142, 0.352, 0.351, 0.346, 0.217, 1.068, 1.171, 1.213, 1.226, 1.111, 0.183, 0.162, 0.113, 1.309, 1.638, 1.589, 1.411, 1.457, 0.397, 0.328, 0.242, 1.367])\n",
    "pu_239 = np.array([75.804, 75.515, 75.175, 78.872, 73.317, 79.116, 75.751, 75.326, 63.287, 59.553, 58.688, 58.758, 59.728, 59.544, 59.877, 61.182, 78.244, 78.166, 74.254, 79.840, 62.455, 73.189, 75.968, 75.957, 72.885,72.907, 72.919, 76.089, 70.129, 69.273, 69.147, 68.294, 71.076, 75.714, 76.150, 77.845, 62.382, 60.112, 60.519, 61.585, 61.332, 72.291, 73.451, 74.888, 60.507]) \n",
    "pu_240 = np.array([21.204, 21.408, 21.668, 18.428, 20.223, 18.548, 21.162, 21.557, 24.493, 25.576, 25.719, 25.692, 25.146, 25.126, 25.128, 25.100, 18.488, 18.629, 21.515, 17.872, 24.656, 18.285, 20.794, 20.867, 21.718, 21.721, 21.713, 20.225, 18.573, 18.633, 18.640, 18.869, 18.122, 20.750, 20.345, 19.108, 22.754, 23.320, 23.128, 23.133, 23.239, 21.761, 21.429, 20.939, 23.603])\n",
    "pu_241 = np.array([2.180, 2.240, 2.305, 1.906, 4.128, 1.690, 2.260, 2.282, 6.990, 8.027, 8.279, 8.261, 8.377, 8.569, 8.428, 7.802, 2.351, 2.365, 2.901, 1.674, 7.512, 5.597, 2.407, 2.341, 3.618, 3.601, 3.600, 2.556, 7.689, 8.300, 8.363, 8.826, 7.248, 2.488, 2.524, 2.275, 9.311, 9.972, 9.970, 9.339, 9.321, 3.836, 3.419, 2.875, 9.839])"
   ]
  },
  {
   "cell_type": "code",
   "execution_count": null,
   "id": "bb9607e3",
   "metadata": {},
   "outputs": [],
   "source": []
  },
  {
   "cell_type": "code",
   "execution_count": 32,
   "id": "eccc905a",
   "metadata": {},
   "outputs": [
    {
     "data": {
      "text/plain": [
       "ShapiroResult(statistic=0.9316781759262085, pvalue=0.010755813680589199)"
      ]
     },
     "execution_count": 32,
     "metadata": {},
     "output_type": "execute_result"
    }
   ],
   "source": [
    "stats.shapiro(pu_240)"
   ]
  },
  {
   "cell_type": "markdown",
   "id": "a9687c5b",
   "metadata": {},
   "source": [
    "Условие нормальности не соблюдается"
   ]
  },
  {
   "cell_type": "code",
   "execution_count": 21,
   "id": "b4589df7",
   "metadata": {},
   "outputs": [
    {
     "data": {
      "text/plain": [
       "BartlettResult(statistic=193.1803716617602, pvalue=1.2547805439253745e-41)"
      ]
     },
     "execution_count": 21,
     "metadata": {},
     "output_type": "execute_result"
    }
   ],
   "source": [
    "stats.bartlett(pu_238, pu_239, pu_240, pu_241)"
   ]
  },
  {
   "cell_type": "markdown",
   "id": "4f1ed519",
   "metadata": {},
   "source": [
    "Используем непараметрические тесты"
   ]
  },
  {
   "cell_type": "markdown",
   "id": "be47bf2d",
   "metadata": {},
   "source": [
    "*Т.к. не соблюдаются условия применимости ANOVA, используем stats.kruskal(pu_238, pu_239, pu_240, pu_241)*"
   ]
  },
  {
   "cell_type": "code",
   "execution_count": 34,
   "id": "f19274cb",
   "metadata": {},
   "outputs": [
    {
     "data": {
      "text/plain": [
       "KruskalResult(statistic=167.8178522154513, pvalue=3.76478949748032e-36)"
      ]
     },
     "execution_count": 34,
     "metadata": {},
     "output_type": "execute_result"
    }
   ],
   "source": [
    "stats.kruskal(pu_238, pu_239, pu_240, pu_241)"
   ]
  },
  {
   "cell_type": "markdown",
   "id": "7a4f60cc",
   "metadata": {},
   "source": [
    " "
   ]
  },
  {
   "cell_type": "markdown",
   "id": "e1d8ac2f",
   "metadata": {},
   "source": [
    "Задача 2:     \n",
    "Даны квартальные прибыли акции Johnson&Johnson с 1960-1980 гг.   \n",
    "Есть ли различия прибыли между 4-мя кварталами?   \n",
    "Провести EDA (проверка на нормальность, проверка на однородность дисперсий с помощью Барлетт теста from scipy.stats import bartlett)   \n",
    "Учитывайте при выборе теста тот факт, что при сбалансированных данных (выборки одинакового объема), неоднородность дисперсий слабо влияет на результат)"
   ]
  },
  {
   "cell_type": "code",
   "execution_count": 6,
   "id": "1458d0ca",
   "metadata": {},
   "outputs": [],
   "source": [
    "JJ_1=np.array([0.71, 0.63, 0.85, 0.44, 0.61, 0.69, 0.92, 0.55, 0.72, 0.77, 0.92, 0.60, 0.83, 0.80, 1.00, 0.77, 0.92, 1.00, 1.24, 1.00, 1.16 ])\n",
    "JJ_2=np.array([1.30, 1.45, 1.25, 1.26, 1.38, 1.86, 1.56, 1.53, 1.59, 1.83, 1.86, 1.53, 2.07, 2.34, 2.25, 2.16, 2.43, 2.70, 2.25, 2.79, 3.42 ])\n",
    "JJ_3=np.array([3.69, 3.60, 3.60, 4.32, 4.32, 4.05, 4.86, 5.04, 5.04, 4.41, 5.58, 5.85, 6.57, 5.31, 6.03, 6.39, 6.93, 5.85, 6.93, 7.74, 7.83])\n",
    "JJ_4=np.array([6.12, 7.74, 8.91, 8.28, 6.84, 9.54, 10.26, 9.54, 8.73, 11.88, 12.06, 12.15, 8.91, 14.04, 12.96, 14.85, 9.99, 16.20, 14.67, 16.02, 11.61 ])"
   ]
  },
  {
   "cell_type": "code",
   "execution_count": 12,
   "id": "77482299",
   "metadata": {},
   "outputs": [
    {
     "data": {
      "text/plain": [
       "21"
      ]
     },
     "execution_count": 12,
     "metadata": {},
     "output_type": "execute_result"
    }
   ],
   "source": [
    "len(JJ_4)"
   ]
  },
  {
   "cell_type": "code",
   "execution_count": 38,
   "id": "e55d2bff",
   "metadata": {},
   "outputs": [
    {
     "data": {
      "text/plain": [
       "ShapiroResult(statistic=0.9590807557106018, pvalue=0.49780404567718506)"
      ]
     },
     "execution_count": 38,
     "metadata": {},
     "output_type": "execute_result"
    }
   ],
   "source": [
    "stats.shapiro(JJ_4)"
   ]
  },
  {
   "cell_type": "code",
   "execution_count": 39,
   "id": "596b1d2e",
   "metadata": {},
   "outputs": [
    {
     "data": {
      "text/plain": [
       "BartlettResult(statistic=109.62893110687119, pvalue=1.3188378332498392e-23)"
      ]
     },
     "execution_count": 39,
     "metadata": {},
     "output_type": "execute_result"
    }
   ],
   "source": [
    "stats.bartlett(JJ_1, JJ_2, JJ_3, JJ_4)"
   ]
  },
  {
   "cell_type": "markdown",
   "id": "e6f8050a",
   "metadata": {},
   "source": [
    "Вывод: Дисперсии неоднородны"
   ]
  },
  {
   "cell_type": "code",
   "execution_count": 41,
   "id": "5ca93727",
   "metadata": {},
   "outputs": [
    {
     "data": {
      "text/plain": [
       "F_onewayResult(statistic=162.03157448390618, pvalue=6.81307443530621e-34)"
      ]
     },
     "execution_count": 41,
     "metadata": {},
     "output_type": "execute_result"
    }
   ],
   "source": [
    "stats.f_oneway(JJ_1, JJ_2, JJ_3, JJ_4)"
   ]
  },
  {
   "cell_type": "markdown",
   "id": "dc9ab4b2",
   "metadata": {},
   "source": [
    "Вывод: Статичстически значимые различия есть"
   ]
  },
  {
   "cell_type": "markdown",
   "id": "8fc63a61",
   "metadata": {},
   "source": [
    "*Провести post hoc tests к задаче 2.   \n",
    "Между какими группами не обнаружено статистически значимых различий?*"
   ]
  },
  {
   "cell_type": "code",
   "execution_count": 13,
   "id": "6047f19e",
   "metadata": {},
   "outputs": [
    {
     "name": "stdout",
     "output_type": "stream",
     "text": [
      "Multiple Comparison of Means - Tukey HSD, FWER=0.05 \n",
      "====================================================\n",
      "group1 group2 meandiff p-adj   lower   upper  reject\n",
      "----------------------------------------------------\n",
      "  JJ_1   JJ_2   1.1276 0.1282 -0.2087   2.464  False\n",
      "  JJ_1   JJ_3     4.61    0.0  3.2737  5.9463   True\n",
      "  JJ_1   JJ_4  10.1986    0.0  8.8622 11.5349   True\n",
      "  JJ_2   JJ_3   3.4824    0.0   2.146  4.8187   True\n",
      "  JJ_2   JJ_4    9.071    0.0  7.7346 10.4073   True\n",
      "  JJ_3   JJ_4   5.5886    0.0  4.2522  6.9249   True\n",
      "----------------------------------------------------\n"
     ]
    }
   ],
   "source": [
    "df=pd.DataFrame({\"score\":[0.71, 0.63, 0.85, 0.44, 0.61, 0.69, 0.92, 0.55, 0.72, 0.77, 0.92, 0.60, 0.83, 0.80, \n",
    "                          1.00, 0.77, 0.92, 1.00, 1.24, 1.00, 1.16, 1.30, 1.45, 1.25, 1.26, 1.38, 1.86, 1.56, \n",
    "                          1.53, 1.59, 1.83, 1.86, 1.53, 2.07, 2.34, 2.25, 2.16, 2.43, 2.70, 2.25, 2.79, 3.42, \n",
    "                          3.69, 3.60, 3.60, 4.32, 4.32, 4.05, 4.86, 5.04, 5.04, 4.41, 5.58, 5.85, 6.57, 5.31, \n",
    "                          6.03, 6.39, 6.93, 5.85, 6.93, 7.74, 7.83, 6.12, 7.74, 8.91, 8.28, 6.84, 9.54, 10.26, \n",
    "                          9.54, 8.73, 11.88, 12.06, 12.15, 8.91, 14.04, 12.96, 14.85, 9.99, 16.20, 14.67, 16.02, 11.61],\n",
    "                 \"group\":np.repeat([\"JJ_1\",\"JJ_2\",\"JJ_3\",\"JJ_4\"], repeats =21)})\n",
    "tukey=pairwise_tukeyhsd(df[\"score\"],\n",
    "                        df[\"group\"],\n",
    "                        alpha =0.05)\n",
    "print(tukey)"
   ]
  },
  {
   "cell_type": "markdown",
   "id": "44624aeb",
   "metadata": {},
   "source": [
    " "
   ]
  },
  {
   "cell_type": "markdown",
   "id": "7d96f1ab",
   "metadata": {},
   "source": [
    "***Задачи на повторение***\n",
    "*Задача 4:   \n",
    "Даны веса пациентов до и после диеты. Веса распределены нормально   \n",
    "До 92.8 , 95.6, 92.1, 100.6, 96.2, 92.1, 96.7, 97.6, 97.0, 93.9   \n",
    "После 87.1, 84.1, 81.3, 77.0, 86.0, 82.9, 83.0, 85.5, 85.2, 84.6   \n",
    "Проверить гипотезу о, том что средний вес пациентов после диеты статистически меньше веса до диеты   \n",
    "*1) Используйте alternative='greater‘   \n",
    "*2) alternative=‘less‘   \n",
    "*3) 'two-sided'   \n",
    "Объясните полученные результаты p-value для каждого случая*"
   ]
  },
  {
   "cell_type": "code",
   "execution_count": 59,
   "id": "233804d3",
   "metadata": {},
   "outputs": [],
   "source": [
    "before = np.array([92.8 , 95.6, 92.1, 100.6, 96.2, 92.1, 96.7, 97.6, 97.0, 93.9])\n",
    "after = np.array([87.1, 84.1, 81.3, 77.0, 86.0, 82.9, 83.0, 85.5, 85.2, 84.6])\n",
    "n = np.array([0, 1, 2, 3, 4, 5, 6, 7, 8, 9])"
   ]
  },
  {
   "cell_type": "code",
   "execution_count": 46,
   "id": "1b5409cc",
   "metadata": {},
   "outputs": [
    {
     "data": {
      "text/plain": [
       "Ttest_relResult(statistic=7.972831441034037, pvalue=0.9999886277862766)"
      ]
     },
     "execution_count": 46,
     "metadata": {},
     "output_type": "execute_result"
    }
   ],
   "source": [
    "stats.ttest_rel(before,after, alternative = \"less\")"
   ]
  },
  {
   "cell_type": "code",
   "execution_count": 47,
   "id": "e7bda911",
   "metadata": {},
   "outputs": [
    {
     "data": {
      "text/plain": [
       "Ttest_relResult(statistic=7.972831441034037, pvalue=1.1372213723408018e-05)"
      ]
     },
     "execution_count": 47,
     "metadata": {},
     "output_type": "execute_result"
    }
   ],
   "source": [
    "stats.ttest_rel(before,after, alternative = \"greater\")"
   ]
  },
  {
   "cell_type": "code",
   "execution_count": 48,
   "id": "84950526",
   "metadata": {},
   "outputs": [
    {
     "data": {
      "text/plain": [
       "Ttest_relResult(statistic=7.972831441034037, pvalue=2.2744427446816035e-05)"
      ]
     },
     "execution_count": 48,
     "metadata": {},
     "output_type": "execute_result"
    }
   ],
   "source": [
    "stats.ttest_rel(before,after, alternative = \"two-sided\")"
   ]
  },
  {
   "cell_type": "code",
   "execution_count": 50,
   "id": "a1a16970",
   "metadata": {},
   "outputs": [
    {
     "data": {
      "text/plain": [
       "Ttest_relResult(statistic=7.972831441034037, pvalue=2.2744427446816035e-05)"
      ]
     },
     "execution_count": 50,
     "metadata": {},
     "output_type": "execute_result"
    }
   ],
   "source": [
    "stats.ttest_rel(before,after)"
   ]
  },
  {
   "cell_type": "code",
   "execution_count": 52,
   "id": "60a9ec3d",
   "metadata": {},
   "outputs": [
    {
     "data": {
      "text/plain": [
       "1.0"
      ]
     },
     "execution_count": 52,
     "metadata": {},
     "output_type": "execute_result"
    }
   ],
   "source": [
    "0.9999886277862766 + 1.1372213723408018e-05 "
   ]
  },
  {
   "cell_type": "code",
   "execution_count": 54,
   "id": "e3f934ea",
   "metadata": {},
   "outputs": [
    {
     "data": {
      "text/plain": [
       "95.46000000000001"
      ]
     },
     "execution_count": 54,
     "metadata": {},
     "output_type": "execute_result"
    }
   ],
   "source": [
    "np.mean(before)"
   ]
  },
  {
   "cell_type": "code",
   "execution_count": 56,
   "id": "7e03a079",
   "metadata": {},
   "outputs": [
    {
     "data": {
      "text/plain": [
       "83.67"
      ]
     },
     "execution_count": 56,
     "metadata": {},
     "output_type": "execute_result"
    }
   ],
   "source": [
    "np.mean(after)"
   ]
  },
  {
   "cell_type": "code",
   "execution_count": 60,
   "id": "05625f43",
   "metadata": {},
   "outputs": [
    {
     "data": {
      "image/png": "[encoded data removed]",
      "text/plain": [
       "<Figure size 640x480 with 1 Axes>"
      ]
     },
     "metadata": {},
     "output_type": "display_data"
    }
   ],
   "source": [
    "plt.scatter(n, before, color=\"red\")\n",
    "plt.scatter(n, after, color=\"green\")\n",
    "plt.show()"
   ]
  },
  {
   "cell_type": "markdown",
   "id": "3c893d4f",
   "metadata": {},
   "source": [
    "*Задача 6:    \n",
    "В одной группе из 100 больных наблюдалось улучшение у 75, а в другой из 100 больных среди 69.    \n",
    "Оценить с помощью доверительного интервала разность долей больных, у которых наблюдались улучшения.*"
   ]
  },
  {
   "cell_type": "markdown",
   "id": "6c66e369",
   "metadata": {},
   "source": [
    "$Δ$ ± $\\displaystyle Z_{α/2}$*$S_Δ$"
   ]
  },
  {
   "cell_type": "code",
   "execution_count": 62,
   "id": "1829a31f",
   "metadata": {},
   "outputs": [
    {
     "data": {
      "text/plain": [
       "0.06000000000000005"
      ]
     },
     "execution_count": 62,
     "metadata": {},
     "output_type": "execute_result"
    }
   ],
   "source": [
    "delta = 0.75 - 0.69\n",
    "delta"
   ]
  },
  {
   "cell_type": "code",
   "execution_count": 64,
   "id": "0f11b655",
   "metadata": {},
   "outputs": [
    {
     "data": {
      "text/plain": [
       "1.959963984540054"
      ]
     },
     "execution_count": 64,
     "metadata": {},
     "output_type": "execute_result"
    }
   ],
   "source": [
    "stats.norm.ppf(0.975)"
   ]
  },
  {
   "cell_type": "markdown",
   "id": "60671c7f",
   "metadata": {},
   "source": [
    "$S_Δ$ = $\\displaystyle \\sqrt {P_{общ}*(1 - P_{общ})*(\\frac{1}{n_1}+\\frac {1}{n_2})}$"
   ]
  },
  {
   "cell_type": "markdown",
   "id": "f7dcc79d",
   "metadata": {},
   "source": [
    "$P_{общ} = \\frac{m_1+m_2}{n_1+n_2}$    \n",
    "где $m_1$ = 75, $m_2$ = 69, $n_1=n_2$ = 100"
   ]
  },
  {
   "cell_type": "code",
   "execution_count": 67,
   "id": "d7747d2c",
   "metadata": {},
   "outputs": [],
   "source": [
    "P = (75 + 69)/(100 + 100)\n",
    "P\n",
    "n=100"
   ]
  },
  {
   "cell_type": "code",
   "execution_count": 70,
   "id": "96e6336c",
   "metadata": {},
   "outputs": [
    {
     "data": {
      "text/plain": [
       "0.06349803146555018"
      ]
     },
     "execution_count": 70,
     "metadata": {},
     "output_type": "execute_result"
    }
   ],
   "source": [
    "S = np.sqrt(P * (1 - P) * (1/n + 1/n))\n",
    "S"
   ]
  },
  {
   "cell_type": "code",
   "execution_count": 77,
   "id": "9bcbbe29",
   "metadata": {},
   "outputs": [
    {
     "name": "stdout",
     "output_type": "stream",
     "text": [
      "Доверительный интервал [-0.0644538547616694; 0.1844538547616695]\n"
     ]
    }
   ],
   "source": [
    "left = delta - stats.norm.ppf(0.975) * S\n",
    "right = delta + stats.norm.ppf(0.975) * S\n",
    "print(f'Доверительный интервал [{left}; {right}]')"
   ]
  },
  {
   "cell_type": "markdown",
   "id": "0d530d5d",
   "metadata": {},
   "source": [
    "*Задача 7   \n",
    "Какова вероятность, что в наудачу выбранном двузначном числе цифры одинаковые?*"
   ]
  },
  {
   "cell_type": "markdown",
   "id": "07c28463",
   "metadata": {},
   "source": [
    "Благоприятные исходы - одинаковые цифры   \n",
    "$C_9^1$    \n",
    "Выбрать первую цифру $C_9^1$    \n",
    "Выбрать вторую цифру $C_{10}^1$  \n",
    "Общий исход  $C_9^1$ * $C_{10}^1$ \n",
    "\n",
    "$P = \\frac {C_9^1}{C_9^1*C_{10}^1}$\n"
   ]
  },
  {
   "cell_type": "code",
   "execution_count": null,
   "id": "b0f193fb",
   "metadata": {},
   "outputs": [],
   "source": []
  }
 ],
 "metadata": {
  "kernelspec": {
   "display_name": "Python 3 (ipykernel)",
   "language": "python",
   "name": "python3"
  },
  "language_info": {
   "codemirror_mode": {
    "name": "ipython",
    "version": 3
   },
   "file_extension": ".py",
   "mimetype": "text/x-python",
   "name": "python",
   "nbconvert_exporter": "python",
   "pygments_lexer": "ipython3",
   "version": "3.9.13"
  }
 },
 "nbformat": 4,
 "nbformat_minor": 5
}
