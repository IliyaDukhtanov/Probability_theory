{
 "cells": [
  {
   "cell_type": "markdown",
   "id": "c714c426",
   "metadata": {},
   "source": [
    "**ДЗ семинар 7.   \n",
    "Непараметрические тесты.**    \n",
    "***1-4 задачи решать с помощью функций, 5ю вручную.    \n",
    "Выбрать тест и проверить, есть ли различия между выборками***"
   ]
  },
  {
   "cell_type": "markdown",
   "id": "310eae3f",
   "metadata": {},
   "source": [
    "*Задача 1:    \n",
    "Даны **две независимые** выборки. Не соблюдается условие нормальности   \n",
    "x1 380,420, 290   \n",
    "y1 140,360,200,900   \n",
    "Сделайте вывод по результатам, полученным с помощью функции*"
   ]
  },
  {
   "cell_type": "markdown",
   "id": "fd050bf8",
   "metadata": {},
   "source": [
    "Для данного условия задачи выбираем критерий Манна-Уитни.   \n",
    "Гипотеза $\\displaystyle H_0$: $µ_1 = µ_2$   \n",
    "Гипотеза $\\displaystyle H_0$: $µ_1 ≠ µ_2$  \n",
    "где $µ_1$ и $µ_2$ - медианы перовй и второй выборок.    \n",
    "Воспользуемся функцией Манна-Уитни (stats.Mannwhitneyu())"
   ]
  },
  {
   "cell_type": "code",
   "execution_count": 1,
   "id": "9206dba7",
   "metadata": {},
   "outputs": [],
   "source": [
    "import numpy as np\n",
    "import scipy.stats as stats"
   ]
  },
  {
   "cell_type": "code",
   "execution_count": 2,
   "id": "d0b01458",
   "metadata": {},
   "outputs": [],
   "source": [
    "x1 = np.array([380, 420, 290])\n",
    "y1 = np.array([140, 360, 200, 900])"
   ]
  },
  {
   "cell_type": "code",
   "execution_count": 3,
   "id": "420fba0b",
   "metadata": {},
   "outputs": [
    {
     "data": {
      "text/plain": [
       "MannwhitneyuResult(statistic=8.0, pvalue=0.6285714285714286)"
      ]
     },
     "execution_count": 3,
     "metadata": {},
     "output_type": "execute_result"
    }
   ],
   "source": [
    "stats.mannwhitneyu(x1, y1)"
   ]
  },
  {
   "cell_type": "markdown",
   "id": "a9859bf7",
   "metadata": {},
   "source": [
    "В результате вычисления функции получено значение p-value = 0,6285   \n",
    "При условии, что уровень значимости α = 0,05, полученное значение p-value > α   \n",
    "    \n",
    "*Вывод: т.к. p-value > α, принимаем гипотезу $\\displaystyle H_0$, т.е. статистичеси значемые различия между выборками x1 и y1  отсутствуют.*"
   ]
  },
  {
   "cell_type": "markdown",
   "id": "9aeb70e8",
   "metadata": {},
   "source": [
    "  "
   ]
  },
  {
   "cell_type": "markdown",
   "id": "eaa00a99",
   "metadata": {},
   "source": [
    "*Задача 2:    \n",
    "Исследовалось влияние препарата на уровень давления пациентов. Сначала измерялось давление до приема препарата, потом через 10 минут и через 30 минут. Есть ли статистически значимые различия?   \n",
    "1е измерение до приема препарата: 150, 160, 165, 145, 155   \n",
    "2е измерение через 10 минут: 140, 155, 150, 130, 135   \n",
    "3е измерение через 30 минут: 130, 130, 120, 130, 125*"
   ]
  },
  {
   "cell_type": "markdown",
   "id": "4e106f20",
   "metadata": {},
   "source": [
    "Для рассчёта выбираем критерий Фридмана (stats.friedmanchisquare()), т.к. даны **множественные зависимые** выборки.   \n",
    "А также уровень значимости α = 0,05"
   ]
  },
  {
   "cell_type": "code",
   "execution_count": 4,
   "id": "5dd21931",
   "metadata": {},
   "outputs": [],
   "source": [
    "before = np.array([150, 160, 165, 145, 155])\n",
    "test1 = np.array([140, 155, 150, 130, 135])\n",
    "test2 = np.array([130, 130, 120, 130, 125])"
   ]
  },
  {
   "cell_type": "code",
   "execution_count": 5,
   "id": "f9f72bdd",
   "metadata": {},
   "outputs": [
    {
     "data": {
      "text/plain": [
       "FriedmanchisquareResult(statistic=9.578947368421062, pvalue=0.00831683351100441)"
      ]
     },
     "execution_count": 5,
     "metadata": {},
     "output_type": "execute_result"
    }
   ],
   "source": [
    "stats.friedmanchisquare(before, test1, test2)"
   ]
  },
  {
   "cell_type": "markdown",
   "id": "40405133",
   "metadata": {},
   "source": [
    "В результате вычисления функции получено значение p-value = 0.0083   \n",
    "При условии, что уровень значимости α = 0,05, полученное значение p-value < α   \n",
    "    \n",
    "*Вывод: т.к. p-value < α, принимаем гипотезу $\\displaystyle H_1$, т.е. обнаружены статистичеси значемые различия между выборками.    \n",
    "Препарат влияет на уровень давления пациентов.*"
   ]
  },
  {
   "cell_type": "markdown",
   "id": "436b2d40",
   "metadata": {},
   "source": [
    " "
   ]
  },
  {
   "cell_type": "markdown",
   "id": "1040a2d6",
   "metadata": {},
   "source": [
    "*Задача 3:    \n",
    "Для условия предыдущей задачи 2, сравните 1-е и 2-е измерения, предполагая, что 3-го измерения через 30 минут не было.*"
   ]
  },
  {
   "cell_type": "markdown",
   "id": "4e16879a",
   "metadata": {},
   "source": [
    "Имеем **две зависимые** выбоки:    \n",
    "1-е измерение до приема препарата: 150, 160, 165, 145, 155   \n",
    "2-е измерение через 10 минут: 140, 155, 150, 130, 135   "
   ]
  },
  {
   "cell_type": "markdown",
   "id": "8dc0fe83",
   "metadata": {},
   "source": [
    "Для рассчёта выбираем критерий Уилкоксона (stats.wilcoxon(x, y))   \n",
    "Также принимаем уровень значимости α = 0,05  "
   ]
  },
  {
   "cell_type": "code",
   "execution_count": 8,
   "id": "0fa6c632",
   "metadata": {},
   "outputs": [],
   "source": [
    "before = np.array([150, 160, 165, 145, 155])\n",
    "after = np.array([140, 155, 150, 130, 135])"
   ]
  },
  {
   "cell_type": "code",
   "execution_count": 9,
   "id": "683094a8",
   "metadata": {},
   "outputs": [
    {
     "data": {
      "text/plain": [
       "WilcoxonResult(statistic=0.0, pvalue=0.0625)"
      ]
     },
     "execution_count": 9,
     "metadata": {},
     "output_type": "execute_result"
    }
   ],
   "source": [
    "stats.wilcoxon(before, after)"
   ]
  },
  {
   "cell_type": "markdown",
   "id": "453bd9ca",
   "metadata": {},
   "source": [
    "В результате вычисления функции получено значение p-value = 0.0625   \n",
    "При условии, что уровень значимости α = 0,05, полученное значение p-value > α   \n",
    "    \n",
    "*Вывод: т.к. p-value > α, принимаем гипотезу $\\displaystyle H_0$, т.е. статистичеси значемые различия между выборками не обнаружены.    \n",
    "Препарат не оказал статистически значимого влияния на давление пациентов после повторного измерения давления через 10 минут после приёма препарата.*"
   ]
  },
  {
   "cell_type": "markdown",
   "id": "575f09d5",
   "metadata": {},
   "source": [
    " "
   ]
  },
  {
   "cell_type": "markdown",
   "id": "07d6e62a",
   "metadata": {},
   "source": [
    "*Задача 4: \n",
    "Даны 3 группы учеников плавания.   \n",
    "В 1 группе время на дистанцию 50 м составляет: 56, 60, 62, 55, 71, 67, 59, 58, 64, 67   \n",
    "Вторая группа : 57, 58, 69, 48, 72, 70, 68, 71, 50, 53   \n",
    "Третья группа: 57, 67, 49, 48, 47, 55, 66, 51, 54   \n",
    "Есть ли различия между группами?*"
   ]
  },
  {
   "cell_type": "markdown",
   "id": "c38cb995",
   "metadata": {},
   "source": [
    "Даны **множественные независимые** выборки.   \n",
    "Для рассчёта выбираем критерий Крускала–Уоллиса (stats.kruskal())\n",
    "Также принимаем уровень значимости α = 0,05   "
   ]
  },
  {
   "cell_type": "code",
   "execution_count": 10,
   "id": "ae266ad6",
   "metadata": {},
   "outputs": [],
   "source": [
    "gr1 = np.array([56, 60, 62, 55, 71, 67, 59, 58, 64, 67])\n",
    "gr2 = np.array([57, 58, 69, 48, 72, 70, 68, 71, 50, 53])\n",
    "gr3 = np.array([57, 67, 49, 48, 47, 55, 66, 51, 54])"
   ]
  },
  {
   "cell_type": "code",
   "execution_count": 11,
   "id": "9acd2eb8",
   "metadata": {},
   "outputs": [
    {
     "data": {
      "text/plain": [
       "KruskalResult(statistic=5.465564058257224, pvalue=0.0650380998590494)"
      ]
     },
     "execution_count": 11,
     "metadata": {},
     "output_type": "execute_result"
    }
   ],
   "source": [
    "stats.kruskal(gr1, gr2, gr3)"
   ]
  },
  {
   "cell_type": "markdown",
   "id": "63330243",
   "metadata": {},
   "source": [
    "В результате вычисления функции получено значение p-value = 0.065   \n",
    "При условии, что уровень значимости α = 0,05, полученное значение p-value > α   \n",
    "    \n",
    "*Вывод: т.к. p-value > α, принимаем гипотезу $\\displaystyle H_0$, т.е. статистичеси значемые различия между выборками не обнаружены.    \n",
    "Статистически значимых различий между результатами учеников по плаванию не обнаружено.*"
   ]
  },
  {
   "cell_type": "markdown",
   "id": "658473f0",
   "metadata": {},
   "source": [
    " "
   ]
  },
  {
   "cell_type": "markdown",
   "id": "9a267814",
   "metadata": {},
   "source": [
    "*Задача 5: \n",
    "Заявляется, что партия изготавливается со средним арифметическим 2,5 см.    \n",
    "Проверить данную гипотезу, если известно, что размеры изделий подчинены нормальному закону распределения.    \n",
    "Объем выборки 10, уровень статистической значимости 5%   \n",
    "2.51, 2.35, 2.74, 2.56, 2.40, 2.36, 2.65, 2.7, 2.67, 2.34*"
   ]
  },
  {
   "cell_type": "markdown",
   "id": "add54790",
   "metadata": {},
   "source": [
    "Гипотеза $\\displaystyle H_0$: $µ = µ_0$, где $\\mu$ и $\\mu_0$ средние для выборки и генеральной совокупности, соответственно   \n",
    "Гипотеза $\\displaystyle H_0$: $µ ≠ µ_0$  \n",
    "$µ$ = 2,5 см.   \n",
    "n = 10   \n",
    "α = 0,05\n",
    "\n",
    "Выбираем тест по критерию Стьюдента, т.к. σ неизвестна. \n",
    "\n",
    "$t_н=\\frac{\\bar X-\\mu}{\\sigma_н/\\sqrt n}$"
   ]
  },
  {
   "cell_type": "markdown",
   "id": "a400f310",
   "metadata": {},
   "source": [
    "Найдем среднее значение $\\bar X$ для данной выборки: \n"
   ]
  },
  {
   "cell_type": "code",
   "execution_count": 30,
   "id": "7c618604",
   "metadata": {},
   "outputs": [
    {
     "data": {
      "text/plain": [
       "2.5279999999999996"
      ]
     },
     "execution_count": 30,
     "metadata": {},
     "output_type": "execute_result"
    }
   ],
   "source": [
    "a = np.array([2.51, 2.35, 2.74, 2.56, 2.40, 2.36, 2.65, 2.7, 2.67, 2.34])\n",
    "mu = 2.5\n",
    "x = sum(a)/len(a)\n",
    "x"
   ]
  },
  {
   "cell_type": "markdown",
   "id": "79ee3849",
   "metadata": {},
   "source": [
    "Найдём $\\sigma_н = \\sqrt{\\frac {\\sum_{i=1}^n * (x_i - \\bar x)^2}{(n-1)}}$"
   ]
  },
  {
   "cell_type": "code",
   "execution_count": 28,
   "id": "c03e611b",
   "metadata": {},
   "outputs": [],
   "source": [
    "def sigma_styudent(a, x):\n",
    "    sigma = 0\n",
    "    sum_1 = 0\n",
    "    for i in range(len(a)):\n",
    "        sum_1 += (a[i] - x)**2\n",
    "    return (sum_1/(len(a)-1))**0.5"
   ]
  },
  {
   "cell_type": "code",
   "execution_count": 29,
   "id": "0e0c5a11",
   "metadata": {},
   "outputs": [
    {
     "data": {
      "text/plain": [
       "0.1572542173961923"
      ]
     },
     "execution_count": 29,
     "metadata": {},
     "output_type": "execute_result"
    }
   ],
   "source": [
    "sigma_styudent(a, x)"
   ]
  },
  {
   "cell_type": "markdown",
   "id": "0fd94ad1",
   "metadata": {},
   "source": [
    "Рассчитаем $t_н=\\frac{\\bar X-\\mu}{\\sigma_н/\\sqrt n}$"
   ]
  },
  {
   "cell_type": "code",
   "execution_count": 37,
   "id": "1d4026d6",
   "metadata": {},
   "outputs": [
    {
     "name": "stdout",
     "output_type": "stream",
     "text": [
      "Наблюдаемое значение кртерия Стьюдента 0.5631\n"
     ]
    }
   ],
   "source": [
    "tn = (x - mu)/(sigma_styudent(a, x)/(len(a))**0.5)\n",
    "print(f'Наблюдаемое значение кртерия Стьюдента {tn:.4f}')"
   ]
  },
  {
   "cell_type": "markdown",
   "id": "d5a21f36",
   "metadata": {},
   "source": [
    "Получим табличное значение критерия Стьюдента $t_t$ для $\\alpha/2=0.05/2=0.025$ : "
   ]
  },
  {
   "cell_type": "code",
   "execution_count": 36,
   "id": "c57944ff",
   "metadata": {},
   "outputs": [
    {
     "name": "stdout",
     "output_type": "stream",
     "text": [
      "Табличное значение кртерия Стьюдента 2.2622\n"
     ]
    }
   ],
   "source": [
    "tt = stats.t.ppf(0.975, len(a)-1)\n",
    "print(f'Табличное значение кртерия Стьюдента {tt:.4f}')"
   ]
  },
  {
   "cell_type": "markdown",
   "id": "6498eab3",
   "metadata": {},
   "source": [
    "В результате расчетов $t_н$ = 0.5631,  $t_t$ = 2.2622   \n",
    "Таким образом $t_н$ < $t_t$"
   ]
  },
  {
   "cell_type": "markdown",
   "id": "2d6a1da5",
   "metadata": {},
   "source": [
    "*Вывод: Принимаем гипотезу $\\displaystyle H_0$ - среднее по выборке не имеет статистических отклонений от среднего по генеральной совокупности на уровне значимости 0,05.*"
   ]
  },
  {
   "cell_type": "markdown",
   "id": "d2d0b3c3",
   "metadata": {},
   "source": []
  }
 ],
 "metadata": {
  "kernelspec": {
   "display_name": "Python 3 (ipykernel)",
   "language": "python",
   "name": "python3"
  },
  "language_info": {
   "codemirror_mode": {
    "name": "ipython",
    "version": 3
   },
   "file_extension": ".py",
   "mimetype": "text/x-python",
   "name": "python",
   "nbconvert_exporter": "python",
   "pygments_lexer": "ipython3",
   "version": "3.9.13"
  }
 },
 "nbformat": 4,
 "nbformat_minor": 5
}
