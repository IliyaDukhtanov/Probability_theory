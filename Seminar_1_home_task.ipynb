{
 "cells": [
  {
   "cell_type": "markdown",
   "id": "a7abf780",
   "metadata": {},
   "source": [
    "**Домашнее задание к первому семинару по теории вероятностей и математической статистике.  \n",
    "Расчёт вероятности случайных событий**"
   ]
  },
  {
   "cell_type": "markdown",
   "id": "bec227c6",
   "metadata": {},
   "source": [
    "*Задача 1: \n",
    "Из колоды в 52 карты извлекаются случайным образом 4 карты.      \n",
    "a) Найти вероятность того, что все карты – крести.      \n",
    "б) Найти вероятность, что среди 4-х карт окажется хотя бы один туз.*"
   ]
  },
  {
   "cell_type": "markdown",
   "id": "bcb63dd3",
   "metadata": {},
   "source": [
    "a) Всего в колоде 4 * 13 карт разной масти (13 карт - крести). \n",
    "Благоприятный исход - 4 крестовые карты.       \n",
    "Вероятность вытащить одну крестовую карту равна $\\displaystyle P=\\frac{m}{n}=\\frac{13}{52}$        \n",
    "Вероятность вытащить четыре крестовые карты равна $\\displaystyle P=\\frac{13}{52}*\\frac{12}{51}*\\frac{11}{50}*\\frac{10}{49}= 0,0026$\n",
    "\n",
    "Или $\\displaystyle P=\\frac{m}{n}\\$        \n",
    "\n",
    "где m-число благоприятных исходов, n-общее число всех исходов.   \n",
    "\n",
    "$\\displaystyle n=C^4_{52}$ и $\\displaystyle m=C^4_{13}$\n",
    "\n",
    "Для расчетов сочетаний напишем функцию:\n"
   ]
  },
  {
   "cell_type": "code",
   "execution_count": 24,
   "id": "56479c3f",
   "metadata": {},
   "outputs": [],
   "source": [
    "from math import factorial\n",
    "def combinations(n, k):\n",
    "    return int(factorial(n) / (factorial(k) * factorial(n - k))) "
   ]
  },
  {
   "cell_type": "markdown",
   "id": "0ec98ded",
   "metadata": {},
   "source": [
    "Найдем m: "
   ]
  },
  {
   "cell_type": "code",
   "execution_count": 25,
   "id": "edc906c1",
   "metadata": {},
   "outputs": [
    {
     "name": "stdout",
     "output_type": "stream",
     "text": [
      "m = 715\n"
     ]
    }
   ],
   "source": [
    "m=combinations(13, 4)\n",
    "print(f\"m = {m}\")"
   ]
  },
  {
   "cell_type": "markdown",
   "id": "4a3bc2e5",
   "metadata": {},
   "source": [
    "Найдем n:"
   ]
  },
  {
   "cell_type": "code",
   "execution_count": 26,
   "id": "40390712",
   "metadata": {},
   "outputs": [
    {
     "name": "stdout",
     "output_type": "stream",
     "text": [
      "n = 270725\n"
     ]
    }
   ],
   "source": [
    "n=combinations(52, 4)\n",
    "print(f\"n = {n}\")"
   ]
  },
  {
   "cell_type": "markdown",
   "id": "f3989391",
   "metadata": {},
   "source": [
    "Найдём $\\displaystyle P=\\frac{m}{n}\\$"
   ]
  },
  {
   "cell_type": "code",
   "execution_count": 27,
   "id": "c9c8b753",
   "metadata": {},
   "outputs": [
    {
     "name": "stdout",
     "output_type": "stream",
     "text": [
      "P(четыре крестовые карты) = 0.0026\n"
     ]
    }
   ],
   "source": [
    "P=m/n\n",
    "print(f\"P(четыре крестовые карты) = {round(P,4)}\")"
   ]
  },
  {
   "cell_type": "markdown",
   "id": "e69aaa14",
   "metadata": {},
   "source": [
    "б) Всего в колоде 4 туза. $\\displaystyle n=C^4_{52}$     \n",
    "$\\displaystyle m$ будет складываться из 4 вариантов:  \n",
    "   1. из 4-х карт 1 туз:  \n",
    "   число способов достать 1 туз из 4-х $C^1_4$, число способов достать три остальные карты $С^3_{48}$, общее количество сочетаний 1 туз и 3 не туза $C^1_{4}\\cdotС^3_{48}$\n",
    "   2. из 4-х карт 2 туза:  \n",
    "   число способов достать 2 туза из 4-х $C^2_4$, число способов достать две остальные карты $С^2_{48}$, общее количество сочетаний 2 туза и 2 не туза $C^2_{4}\\cdotС^2_{48}$\n",
    "   3. из 4-х карт 3 туза:  \n",
    "   число способов достать 3 туза из 4-х $C^3_4$, число способов достать оставшуюся карту $С^1_{48}$, общее количество сочетаний 3 туза и 1 не туз $C^3_{4}\\cdotС^1_{48}$\n",
    "   4. из 4-х карт 4 туза:  \n",
    "   число способов достать 4 туза из 4-х $C^4_4=1$  \n",
    "   \n",
    "Общее число благоприятных исходов-сумма этих 4 вариантов.  \n",
    "$\\displaystyle P=\\frac{m}{n}=\\frac{C^1_4*С^3_{48}+C^2_4*С^2_{48}+C^3_4*С^1_{48}+1}{C^4_{52}}$"
   ]
  },
  {
   "cell_type": "code",
   "execution_count": 28,
   "id": "8608566e",
   "metadata": {},
   "outputs": [
    {
     "name": "stdout",
     "output_type": "stream",
     "text": [
      "n = 270725\n",
      "m = 76145\n"
     ]
    }
   ],
   "source": [
    "n=combinations(52, 4)\n",
    "print(f\"n = {n}\")\n",
    "m=sum([combinations(4, 1)*combinations(48, 3),combinations(4, 2)*combinations(48, 2),combinations(4, 3)*combinations(48, 1),1])\n",
    "print(f\"m = {m}\")"
   ]
  },
  {
   "cell_type": "code",
   "execution_count": 29,
   "id": "7662e420",
   "metadata": {},
   "outputs": [
    {
     "name": "stdout",
     "output_type": "stream",
     "text": [
      "P(хотя бы один туз) = 0.2813\n"
     ]
    }
   ],
   "source": [
    "P=m/n\n",
    "print(f\"P(хотя бы один туз) = {round(P,4)}\")"
   ]
  },
  {
   "cell_type": "markdown",
   "id": "e8d66915",
   "metadata": {},
   "source": [
    "*Задача 2: \n",
    "На входной двери подъезда установлен кодовый замок, содержащий десять кнопок с цифрами от 0 до 9. Код содержит три цифры, которые нужно нажать одновременно.      \n",
    "Какова вероятность того, что человек, не знающий код, откроет дверь с первой попытки?*\n"
   ]
  },
  {
   "cell_type": "markdown",
   "id": "9e5dbd0c",
   "metadata": {},
   "source": [
    "$\\displaystyle P=\\frac{m}{n}$, где m – открытие замка с первой попытки, n – кол-во комбинаций кода     \n",
    "m=1,     \n",
    "n=$C^3_{10}$"
   ]
  },
  {
   "cell_type": "code",
   "execution_count": 30,
   "id": "5bded8cc",
   "metadata": {},
   "outputs": [
    {
     "name": "stdout",
     "output_type": "stream",
     "text": [
      "Вероятность открыть с первой попытки P = 0.0083\n"
     ]
    }
   ],
   "source": [
    "P=1/combinations(10, 3)\n",
    "print(f\"Вероятность открыть с первой попытки P = {round(P,4)}\")"
   ]
  },
  {
   "cell_type": "markdown",
   "id": "2d019d98",
   "metadata": {},
   "source": [
    "*Задача 3: \n",
    "В ящике имеется 15 деталей, из которых 9 окрашены. Рабочий случайным образом извлекает 3 детали. Какова вероятность того, что все извлеченные детали окрашены?*"
   ]
  },
  {
   "cell_type": "markdown",
   "id": "1b89a0eb",
   "metadata": {},
   "source": [
    "Аналогично первой задаче можно рассчитать вероятность $\\displaystyle P=\\frac{9}{15}*\\frac{8}{14}*\\frac{7}{13} = 0,184$     \n",
    "или    \n",
    "$\\displaystyle P=\\frac{m}{n}=\\frac{C^3_9}{C^3_{15}}$"
   ]
  },
  {
   "cell_type": "code",
   "execution_count": 31,
   "id": "9ce7fa9b",
   "metadata": {
    "scrolled": true
   },
   "outputs": [
    {
     "name": "stdout",
     "output_type": "stream",
     "text": [
      "Вероятность, что все извлечённые детали будут окрашены P = 0.1846\n"
     ]
    }
   ],
   "source": [
    "P=combinations(9, 3)/combinations(15, 3)\n",
    "print(f'Вероятность, что все извлечённые детали будут окрашены P = {round(P,4)}')"
   ]
  },
  {
   "cell_type": "markdown",
   "id": "e7703823",
   "metadata": {},
   "source": [
    "*Задача 4: \n",
    "В лотерее 100 билетов. Из них 2 выигрышных.      \n",
    "Какова вероятность того, что 2 приобретенных билета окажутся выигрышными?*"
   ]
  },
  {
   "cell_type": "markdown",
   "id": "1a6f6d63",
   "metadata": {},
   "source": [
    "$\\displaystyle P=\\frac{m}{n}$ , где m - выигрышные билеты, n - количество билетов     \n",
    "$\\displaystyle P=\\frac{2}{100}*\\frac{1}{99}=0,0002$     \n",
    "или     \n",
    "$\\displaystyle P=\\frac{m}{n}=\\frac{1}{C^2_{100}}$ , где m - выигрышная комбинация (два билета из двух), n - количество различных комбинаций из двух билетов"
   ]
  },
  {
   "cell_type": "code",
   "execution_count": 32,
   "id": "2fb74429",
   "metadata": {},
   "outputs": [
    {
     "name": "stdout",
     "output_type": "stream",
     "text": [
      "Вероятность, что два билета окажутся выигрышными P = 0.0002\n"
     ]
    }
   ],
   "source": [
    "P=1/combinations(100, 2)\n",
    "print(f'Вероятность, что два билета окажутся выигрышными P = {round(P,4)}')"
   ]
  },
  {
   "cell_type": "code",
   "execution_count": null,
   "id": "fa230aa5",
   "metadata": {},
   "outputs": [],
   "source": []
  }
 ],
 "metadata": {
  "kernelspec": {
   "display_name": "Python 3 (ipykernel)",
   "language": "python",
   "name": "python3"
  },
  "language_info": {
   "codemirror_mode": {
    "name": "ipython",
    "version": 3
   },
   "file_extension": ".py",
   "mimetype": "text/x-python",
   "name": "python",
   "nbconvert_exporter": "python",
   "pygments_lexer": "ipython3",
   "version": "3.9.13"
  }
 },
 "nbformat": 4,
 "nbformat_minor": 5
}
