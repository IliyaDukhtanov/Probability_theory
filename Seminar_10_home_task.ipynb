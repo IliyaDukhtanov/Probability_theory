{
 "cells": [
  {
   "cell_type": "markdown",
   "id": "f2cd61da",
   "metadata": {},
   "source": [
    "### ДЗ Семинар 10.\n",
    "### Дисперсионный анализ"
   ]
  },
  {
   "cell_type": "code",
   "execution_count": 1,
   "id": "00b0da4c",
   "metadata": {},
   "outputs": [],
   "source": [
    "import numpy as np\n",
    "import matplotlib.pyplot as plt\n",
    "import scipy.stats as stats\n",
    "from statsmodels.stats.multicomp import pairwise_tukeyhsd\n",
    "import pandas as pd\n",
    "import seaborn as sns"
   ]
  },
  {
   "cell_type": "markdown",
   "id": "72b111ac",
   "metadata": {},
   "source": [
    "*Задача 1:   \n",
    "Провести дисперсионный анализ для определения того, есть ли различия среднего роста среди взрослых футболистов, хоккеистов и штангистов. Даны значения роста в трех группах случайно выбранных спортсменов:    \n",
    "Футболисты: 173, 175, 180, 178, 177, 185, 183, 182.    \n",
    "Хоккеисты: 177, 179, 180, 188, 177, 172, 171, 184, 180.    \n",
    "Штангисты: 172, 173, 169, 177, 166, 180, 178, 177, 172, 166, 170.*"
   ]
  },
  {
   "cell_type": "code",
   "execution_count": 2,
   "id": "2e6b9554",
   "metadata": {},
   "outputs": [],
   "source": [
    "football_players = np.array([173, 175, 180, 178, 177, 185, 183, 182])\n",
    "hockey_players = np.array([177, 179, 180, 188, 177, 172, 171, 184, 180])\n",
    "weigh_lifters = np.array([172, 173, 169, 177, 166, 180, 178, 177, 172, 166, 170])"
   ]
  },
  {
   "cell_type": "code",
   "execution_count": 8,
   "id": "bccb707d",
   "metadata": {},
   "outputs": [
    {
     "data": {
      "text/html": [
       "<div>\n",
       "<style scoped>\n",
       "    .dataframe tbody tr th:only-of-type {\n",
       "        vertical-align: middle;\n",
       "    }\n",
       "\n",
       "    .dataframe tbody tr th {\n",
       "        vertical-align: top;\n",
       "    }\n",
       "\n",
       "    .dataframe thead th {\n",
       "        text-align: right;\n",
       "    }\n",
       "</style>\n",
       "<table border=\"1\" class=\"dataframe\">\n",
       "  <thead>\n",
       "    <tr style=\"text-align: right;\">\n",
       "      <th></th>\n",
       "      <th>Рост спортсмена</th>\n",
       "      <th>Type</th>\n",
       "    </tr>\n",
       "  </thead>\n",
       "  <tbody>\n",
       "    <tr>\n",
       "      <th>0</th>\n",
       "      <td>173</td>\n",
       "      <td>Футбол</td>\n",
       "    </tr>\n",
       "    <tr>\n",
       "      <th>1</th>\n",
       "      <td>175</td>\n",
       "      <td>Футбол</td>\n",
       "    </tr>\n",
       "    <tr>\n",
       "      <th>2</th>\n",
       "      <td>180</td>\n",
       "      <td>Футбол</td>\n",
       "    </tr>\n",
       "    <tr>\n",
       "      <th>3</th>\n",
       "      <td>178</td>\n",
       "      <td>Футбол</td>\n",
       "    </tr>\n",
       "    <tr>\n",
       "      <th>4</th>\n",
       "      <td>177</td>\n",
       "      <td>Футбол</td>\n",
       "    </tr>\n",
       "    <tr>\n",
       "      <th>5</th>\n",
       "      <td>185</td>\n",
       "      <td>Футбол</td>\n",
       "    </tr>\n",
       "    <tr>\n",
       "      <th>6</th>\n",
       "      <td>183</td>\n",
       "      <td>Футбол</td>\n",
       "    </tr>\n",
       "    <tr>\n",
       "      <th>7</th>\n",
       "      <td>182</td>\n",
       "      <td>Футбол</td>\n",
       "    </tr>\n",
       "    <tr>\n",
       "      <th>8</th>\n",
       "      <td>177</td>\n",
       "      <td>Хоккей</td>\n",
       "    </tr>\n",
       "    <tr>\n",
       "      <th>9</th>\n",
       "      <td>179</td>\n",
       "      <td>Хоккей</td>\n",
       "    </tr>\n",
       "    <tr>\n",
       "      <th>10</th>\n",
       "      <td>180</td>\n",
       "      <td>Хоккей</td>\n",
       "    </tr>\n",
       "    <tr>\n",
       "      <th>11</th>\n",
       "      <td>188</td>\n",
       "      <td>Хоккей</td>\n",
       "    </tr>\n",
       "    <tr>\n",
       "      <th>12</th>\n",
       "      <td>177</td>\n",
       "      <td>Хоккей</td>\n",
       "    </tr>\n",
       "    <tr>\n",
       "      <th>13</th>\n",
       "      <td>172</td>\n",
       "      <td>Хоккей</td>\n",
       "    </tr>\n",
       "    <tr>\n",
       "      <th>14</th>\n",
       "      <td>171</td>\n",
       "      <td>Хоккей</td>\n",
       "    </tr>\n",
       "    <tr>\n",
       "      <th>15</th>\n",
       "      <td>184</td>\n",
       "      <td>Хоккей</td>\n",
       "    </tr>\n",
       "    <tr>\n",
       "      <th>16</th>\n",
       "      <td>180</td>\n",
       "      <td>Хоккей</td>\n",
       "    </tr>\n",
       "    <tr>\n",
       "      <th>17</th>\n",
       "      <td>172</td>\n",
       "      <td>Штанга</td>\n",
       "    </tr>\n",
       "    <tr>\n",
       "      <th>18</th>\n",
       "      <td>173</td>\n",
       "      <td>Штанга</td>\n",
       "    </tr>\n",
       "    <tr>\n",
       "      <th>19</th>\n",
       "      <td>169</td>\n",
       "      <td>Штанга</td>\n",
       "    </tr>\n",
       "    <tr>\n",
       "      <th>20</th>\n",
       "      <td>177</td>\n",
       "      <td>Штанга</td>\n",
       "    </tr>\n",
       "    <tr>\n",
       "      <th>21</th>\n",
       "      <td>166</td>\n",
       "      <td>Штанга</td>\n",
       "    </tr>\n",
       "    <tr>\n",
       "      <th>22</th>\n",
       "      <td>180</td>\n",
       "      <td>Штанга</td>\n",
       "    </tr>\n",
       "    <tr>\n",
       "      <th>23</th>\n",
       "      <td>178</td>\n",
       "      <td>Штанга</td>\n",
       "    </tr>\n",
       "    <tr>\n",
       "      <th>24</th>\n",
       "      <td>177</td>\n",
       "      <td>Штанга</td>\n",
       "    </tr>\n",
       "    <tr>\n",
       "      <th>25</th>\n",
       "      <td>172</td>\n",
       "      <td>Штанга</td>\n",
       "    </tr>\n",
       "    <tr>\n",
       "      <th>26</th>\n",
       "      <td>166</td>\n",
       "      <td>Штанга</td>\n",
       "    </tr>\n",
       "    <tr>\n",
       "      <th>27</th>\n",
       "      <td>170</td>\n",
       "      <td>Штанга</td>\n",
       "    </tr>\n",
       "  </tbody>\n",
       "</table>\n",
       "</div>"
      ],
      "text/plain": [
       "    Рост спортсмена    Type\n",
       "0               173  Футбол\n",
       "1               175  Футбол\n",
       "2               180  Футбол\n",
       "3               178  Футбол\n",
       "4               177  Футбол\n",
       "5               185  Футбол\n",
       "6               183  Футбол\n",
       "7               182  Футбол\n",
       "8               177  Хоккей\n",
       "9               179  Хоккей\n",
       "10              180  Хоккей\n",
       "11              188  Хоккей\n",
       "12              177  Хоккей\n",
       "13              172  Хоккей\n",
       "14              171  Хоккей\n",
       "15              184  Хоккей\n",
       "16              180  Хоккей\n",
       "17              172  Штанга\n",
       "18              173  Штанга\n",
       "19              169  Штанга\n",
       "20              177  Штанга\n",
       "21              166  Штанга\n",
       "22              180  Штанга\n",
       "23              178  Штанга\n",
       "24              177  Штанга\n",
       "25              172  Штанга\n",
       "26              166  Штанга\n",
       "27              170  Штанга"
      ]
     },
     "execution_count": 8,
     "metadata": {},
     "output_type": "execute_result"
    }
   ],
   "source": [
    "data = {'Рост спортсмена': [173, 175, 180, 178, 177, 185, 183, 182,\n",
    "                            177, 179, 180, 188, 177, 172, 171, 184, 180, \n",
    "                            172, 173, 169, 177, 166, 180, 178, 177, 172, 166, 170],\n",
    "        'Type': ['Футбол', 'Футбол', 'Футбол', 'Футбол', 'Футбол', 'Футбол', 'Футбол', 'Футбол',\n",
    "                 'Хоккей', 'Хоккей', 'Хоккей', 'Хоккей', 'Хоккей', 'Хоккей', 'Хоккей', 'Хоккей', 'Хоккей',\n",
    "                 'Штанга', 'Штанга', 'Штанга', 'Штанга', 'Штанга', 'Штанга', 'Штанга', 'Штанга', 'Штанга', 'Штанга', 'Штанга']}\n",
    "  \n",
    "df = pd.DataFrame(data=data)\n",
    "df"
   ]
  },
  {
   "cell_type": "code",
   "execution_count": 9,
   "id": "0c8e592a",
   "metadata": {
    "scrolled": false
   },
   "outputs": [
    {
     "data": {
      "image/png": "[encoded data removed]",
      "text/plain": [
       "<Figure size 600x400 with 1 Axes>"
      ]
     },
     "metadata": {},
     "output_type": "display_data"
    }
   ],
   "source": [
    "plt.figure(figsize=(6, 4))\n",
    "\n",
    "sns.scatterplot(x=df['Type'], y=df['Рост спортсмена'])\n",
    "\n",
    "plt.title('Рост спортсменов от вида спорта')\n",
    "plt.xlabel('Вид спорта')\n",
    "plt.ylabel('Рост');"
   ]
  },
  {
   "cell_type": "markdown",
   "id": "2887464d",
   "metadata": {},
   "source": [
    "Создадим общий массив данных, содержащий все данные из наших массивов"
   ]
  },
  {
   "cell_type": "code",
   "execution_count": 3,
   "id": "4a5e0cbf",
   "metadata": {},
   "outputs": [
    {
     "data": {
      "text/plain": [
       "array([173, 175, 180, 178, 177, 185, 183, 182, 177, 179, 180, 188, 177,\n",
       "       172, 171, 184, 180, 172, 173, 169, 177, 166, 180, 178, 177, 172,\n",
       "       166, 170])"
      ]
     },
     "execution_count": 3,
     "metadata": {},
     "output_type": "execute_result"
    }
   ],
   "source": [
    "total = np.concatenate([football_players, hockey_players, weigh_lifters])\n",
    "total"
   ]
  },
  {
   "cell_type": "code",
   "execution_count": 4,
   "id": "8983fc48",
   "metadata": {},
   "outputs": [
    {
     "data": {
      "text/plain": [
       "176.46428571428572"
      ]
     },
     "execution_count": 4,
     "metadata": {},
     "output_type": "execute_result"
    }
   ],
   "source": [
    "mean_total = np.mean(total)\n",
    "mean_total"
   ]
  },
  {
   "cell_type": "markdown",
   "id": "2f4084c3",
   "metadata": {},
   "source": [
    "Сформулируем нулевую гипотезу:   \n",
    "$H_0: \\mu_1=\\mu_2=\\mu_3$ т.е. средний рост спортсмена не зависит от вида спорта, которым он занимается (из представленных трех).   \n",
    "Альтернативная гипотеза:   \n",
    "$H_1: \\mu_1\\not=\\mu_2\\not=\\mu_3$ т.е. средний рост спортсмена зависит от выбранного им спорта."
   ]
  },
  {
   "cell_type": "markdown",
   "id": "72d11b2a",
   "metadata": {},
   "source": [
    "Проверим выборки на нормальность с помощью теста Шапиро: "
   ]
  },
  {
   "cell_type": "code",
   "execution_count": 5,
   "id": "ecd988d9",
   "metadata": {},
   "outputs": [
    {
     "data": {
      "text/plain": [
       "ShapiroResult(statistic=0.9775082468986511, pvalue=0.9495404362678528)"
      ]
     },
     "execution_count": 5,
     "metadata": {},
     "output_type": "execute_result"
    }
   ],
   "source": [
    "stats.shapiro(football_players)"
   ]
  },
  {
   "cell_type": "code",
   "execution_count": 6,
   "id": "5ddcc2a8",
   "metadata": {},
   "outputs": [
    {
     "data": {
      "text/plain": [
       "ShapiroResult(statistic=0.9579196572303772, pvalue=0.7763139009475708)"
      ]
     },
     "execution_count": 6,
     "metadata": {},
     "output_type": "execute_result"
    }
   ],
   "source": [
    "stats.shapiro(hockey_players)"
   ]
  },
  {
   "cell_type": "code",
   "execution_count": 7,
   "id": "f7c76895",
   "metadata": {},
   "outputs": [
    {
     "data": {
      "text/plain": [
       "ShapiroResult(statistic=0.9386808276176453, pvalue=0.5051165223121643)"
      ]
     },
     "execution_count": 7,
     "metadata": {},
     "output_type": "execute_result"
    }
   ],
   "source": [
    "stats.shapiro(weigh_lifters)"
   ]
  },
  {
   "cell_type": "markdown",
   "id": "be730cf7",
   "metadata": {},
   "source": [
    "*Вывод: все выборки имеют нормальное распределение.*"
   ]
  },
  {
   "cell_type": "markdown",
   "id": "2a2800f0",
   "metadata": {},
   "source": [
    "Проверим количество данных в каждом массиве"
   ]
  },
  {
   "cell_type": "code",
   "execution_count": 8,
   "id": "19873cf8",
   "metadata": {},
   "outputs": [
    {
     "data": {
      "text/plain": [
       "(8, 9, 11)"
      ]
     },
     "execution_count": 8,
     "metadata": {},
     "output_type": "execute_result"
    }
   ],
   "source": [
    "len(football_players), len(hockey_players), len(weigh_lifters)"
   ]
  },
  {
   "cell_type": "markdown",
   "id": "e547b85c",
   "metadata": {},
   "source": [
    "Проверим дисперсии в выборках: "
   ]
  },
  {
   "cell_type": "code",
   "execution_count": 9,
   "id": "75ed1d57",
   "metadata": {},
   "outputs": [
    {
     "data": {
      "text/plain": [
       "(14.859375, 25.33333333333333, 20.925619834710744)"
      ]
     },
     "execution_count": 9,
     "metadata": {},
     "output_type": "execute_result"
    }
   ],
   "source": [
    "np.var(football_players), np.var(hockey_players), np.var(weigh_lifters)"
   ]
  },
  {
   "cell_type": "markdown",
   "id": "6dd6f2ee",
   "metadata": {},
   "source": [
    "Проверим однородность дисперсий с помощию встроенного теста Барлетт"
   ]
  },
  {
   "cell_type": "code",
   "execution_count": 10,
   "id": "a7803e3e",
   "metadata": {},
   "outputs": [
    {
     "data": {
      "text/plain": [
       "BartlettResult(statistic=0.4640521043406442, pvalue=0.7929254656083131)"
      ]
     },
     "execution_count": 10,
     "metadata": {},
     "output_type": "execute_result"
    }
   ],
   "source": [
    "stats.bartlett(football_players, hockey_players, weigh_lifters)"
   ]
  },
  {
   "cell_type": "markdown",
   "id": "355871e0",
   "metadata": {},
   "source": [
    "*Вывод: т.к. p-value > 0.05, дисперсии однородны*   \n",
    "   \n",
    "***Выборки имеют нормальное распределение, а также однородные дисперсии.    \n",
    "Можем применить критерий Фишера для проведения дисперсионного однофакторного анализа***"
   ]
  },
  {
   "cell_type": "markdown",
   "id": "6de3342d",
   "metadata": {},
   "source": [
    "Рассчитаем наблюдаемый критерий Фишера по формуле: \n",
    "     \n",
    "$F_н = \\frac{\\sigma_{факт}^2}{\\sigma_{ост}^2}$, где    \n",
    "$\\sigma_{факт}^2 = \\frac{S_{факт}^2}{k-1}$ - факторная дисперсия, где    \n",
    "$S_{факт}^2 = \\sum_{i=1}^k(y_i-\\bar y_i)^2 n_i $ - факторная сумма квадратных отклонений      \n",
    "$k$ - количествово сравниваемых групп (в нашем случае k=3),    \n",
    "$n_i$ - количество значений в группе  \n",
    "   \n",
    "$\\sigma_{ост}^2 = \\frac{S_{ост}^2}{n-k}$ - остаточная дисперсия, где   \n",
    "$S_{ост}^2 = \\sum_{i=1}^k \\sum_{j=1}^{n_j}(y_{ij}-\\bar y_i)^2 $ - остаточная сумма квадратных отклонений       \n",
    "$n$ - общее количество сравниваемых значений"
   ]
  },
  {
   "cell_type": "markdown",
   "id": "b05d97a0",
   "metadata": {},
   "source": [
    "Найдем факторную сумму квадратных отклонений $S_{факт}^2$:"
   ]
  },
  {
   "cell_type": "code",
   "execution_count": 17,
   "id": "2fccda45",
   "metadata": {},
   "outputs": [
    {
     "data": {
      "text/plain": [
       "253.9074675324678"
      ]
     },
     "execution_count": 17,
     "metadata": {},
     "output_type": "execute_result"
    }
   ],
   "source": [
    "S_f = np.sum((np.mean(football_players) - np.mean(total)) ** 2) * len(football_players) + np.sum((np.mean(hockey_players) - np.mean(total)) ** 2) * len(hockey_players) + np.sum((np.mean(weigh_lifters) - np.mean(total)) ** 2) * len(weigh_lifters)\n",
    "S_f"
   ]
  },
  {
   "cell_type": "markdown",
   "id": "555871c2",
   "metadata": {},
   "source": [
    "Найдем остаточную сумму квадратных отклонений $S_{ост}^2$"
   ]
  },
  {
   "cell_type": "code",
   "execution_count": 20,
   "id": "f5cbe2c2",
   "metadata": {},
   "outputs": [
    {
     "data": {
      "text/plain": [
       "577.0568181818182"
      ]
     },
     "execution_count": 20,
     "metadata": {},
     "output_type": "execute_result"
    }
   ],
   "source": [
    "S_ost = np.sum((football_players - np.mean(football_players)) ** 2) + np.sum((hockey_players - np.mean(hockey_players)) ** 2) + np.sum((weigh_lifters - np.mean(weigh_lifters)) ** 2)\n",
    "S_ost"
   ]
  },
  {
   "cell_type": "markdown",
   "id": "ba78bb39",
   "metadata": {},
   "source": [
    "Проверка корректности найденных S"
   ]
  },
  {
   "cell_type": "code",
   "execution_count": 21,
   "id": "c6b674a5",
   "metadata": {},
   "outputs": [
    {
     "name": "stdout",
     "output_type": "stream",
     "text": [
      "830.964285714286\n"
     ]
    },
    {
     "data": {
      "text/plain": [
       "830.9642857142854"
      ]
     },
     "execution_count": 21,
     "metadata": {},
     "output_type": "execute_result"
    }
   ],
   "source": [
    "print(S_f + S_ost)\n",
    "np.sum((total - np.mean(total)) ** 2)"
   ]
  },
  {
   "cell_type": "markdown",
   "id": "5b3a2a11",
   "metadata": {},
   "source": [
    "Найдем фактическую и останочную дисперсии:    \n",
    "$\\sigma_{факт}^2 = \\frac{S_{факт}^2}{k-1}$    \n",
    "$\\sigma_{ост}^2 = \\frac{S_{ост}^2}{n-k}$"
   ]
  },
  {
   "cell_type": "code",
   "execution_count": 22,
   "id": "4bb773e1",
   "metadata": {},
   "outputs": [
    {
     "data": {
      "text/plain": [
       "28"
      ]
     },
     "execution_count": 22,
     "metadata": {},
     "output_type": "execute_result"
    }
   ],
   "source": [
    "k = 3\n",
    "n = len(total)\n",
    "n"
   ]
  },
  {
   "cell_type": "code",
   "execution_count": 23,
   "id": "c9a9166f",
   "metadata": {},
   "outputs": [
    {
     "data": {
      "text/plain": [
       "126.9537337662339"
      ]
     },
     "execution_count": 23,
     "metadata": {},
     "output_type": "execute_result"
    }
   ],
   "source": [
    "D_f = S_f/(k - 1)\n",
    "D_f"
   ]
  },
  {
   "cell_type": "code",
   "execution_count": 24,
   "id": "f342bcb8",
   "metadata": {},
   "outputs": [
    {
     "data": {
      "text/plain": [
       "23.08227272727273"
      ]
     },
     "execution_count": 24,
     "metadata": {},
     "output_type": "execute_result"
    }
   ],
   "source": [
    "D_ost = S_ost/(n - k)\n",
    "D_ost"
   ]
  },
  {
   "cell_type": "markdown",
   "id": "8c3e7513",
   "metadata": {},
   "source": [
    "Найдем наблюдаемый коэффициент Фишера:   \n",
    "$F_н = \\frac{\\sigma_{факт}^2}{\\sigma_{ост}^2}$"
   ]
  },
  {
   "cell_type": "code",
   "execution_count": 25,
   "id": "9e8fae87",
   "metadata": {},
   "outputs": [
    {
     "name": "stdout",
     "output_type": "stream",
     "text": [
      "Рассчитанное значение коэффициента Фишера Fн=5.5001\n"
     ]
    }
   ],
   "source": [
    "F_n = D_f/D_ost\n",
    "print(f'Рассчитанное значение коэффициента Фишера Fн={F_n:.4f}')"
   ]
  },
  {
   "cell_type": "markdown",
   "id": "77604e12",
   "metadata": {},
   "source": [
    "Табличное занчение коэффициента Фишера найдем с учётом степеней свободы: \n",
    "Количество степеней свободы для числителя: $k-1=2$   \n",
    "Количество степеней свободы для занаменателя: $n-k=25$   \n",
    "$F_т = 3,38$"
   ]
  },
  {
   "cell_type": "markdown",
   "id": "eadbd198",
   "metadata": {},
   "source": [
    "Воспользуемся встроенной функцией для определения коэффициента Фишера и проверки расчёта:"
   ]
  },
  {
   "cell_type": "code",
   "execution_count": 26,
   "id": "6c600cff",
   "metadata": {},
   "outputs": [
    {
     "data": {
      "text/plain": [
       "F_onewayResult(statistic=5.500053450812596, pvalue=0.010482206918698694)"
      ]
     },
     "execution_count": 26,
     "metadata": {},
     "output_type": "execute_result"
    }
   ],
   "source": [
    "f = stats.f_oneway(football_players, hockey_players, weigh_lifters)\n",
    "f"
   ]
  },
  {
   "cell_type": "markdown",
   "id": "17d4be12",
   "metadata": {},
   "source": [
    "***Мы получили $F_н > F_т$, а также $p-value = 0.01048$   \n",
    "При уровне статистической значимости $α=0.05$ отвергаем гипотезу $H_0$ и принимаем $H_1$. Средний рост спортсменов зависит от вида спорта.***  \n",
    "    \n",
    "***При уровне статистической значимости $α=0.01$ принимаем гипотезу $H_0$. Средний рост спортсменов не зависит от вида спорта.***"
   ]
  },
  {
   "cell_type": "code",
   "execution_count": null,
   "id": "c43626e9",
   "metadata": {},
   "outputs": [],
   "source": []
  }
 ],
 "metadata": {
  "kernelspec": {
   "display_name": "Python 3 (ipykernel)",
   "language": "python",
   "name": "python3"
  },
  "language_info": {
   "codemirror_mode": {
    "name": "ipython",
    "version": 3
   },
   "file_extension": ".py",
   "mimetype": "text/x-python",
   "name": "python",
   "nbconvert_exporter": "python",
   "pygments_lexer": "ipython3",
   "version": "3.9.13"
  }
 },
 "nbformat": 4,
 "nbformat_minor": 5
}
