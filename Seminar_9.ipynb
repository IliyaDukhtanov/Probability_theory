{
 "cells": [
  {
   "cell_type": "markdown",
   "id": "d24b4de0",
   "metadata": {},
   "source": [
    "### Семинар 9. \n",
    "### Линейная регрессия Логистическая регрессия"
   ]
  },
  {
   "cell_type": "code",
   "execution_count": 1,
   "id": "9e3058f1",
   "metadata": {},
   "outputs": [],
   "source": [
    "import numpy as np\n",
    "import matplotlib.pyplot as plt\n",
    "import scipy.stats as stats\n",
    "from sklearn.linear_model import LinearRegression\n",
    "import statsmodels.api as sm\n",
    "import pandas as pd"
   ]
  },
  {
   "cell_type": "markdown",
   "id": "281ac31a",
   "metadata": {},
   "source": [
    "*Задача 1: \n",
    "Постройте графики для приведенных наборов данных. Найдите коэффициенты для линии\n",
    "регрессии и коэффициенты детерминации. Что вы замечаете? Нанесите на график модель\n",
    "линейной регрессии.*"
   ]
  },
  {
   "cell_type": "code",
   "execution_count": 15,
   "id": "0436eac7",
   "metadata": {},
   "outputs": [],
   "source": [
    "X1= np.array([30,30,40, 40])\n",
    "Y1= np.array([37, 47, 50, 60])"
   ]
  },
  {
   "cell_type": "code",
   "execution_count": 4,
   "id": "57dbe786",
   "metadata": {},
   "outputs": [
    {
     "data": {
      "text/plain": [
       "1.3"
      ]
     },
     "execution_count": 4,
     "metadata": {},
     "output_type": "execute_result"
    }
   ],
   "source": [
    "b1 = (np.mean(X1 * Y1) - np.mean(X1) * np.mean(Y1)) / (np.mean(X1 ** 2) - np.mean(X1) ** 2)\n",
    "b1"
   ]
  },
  {
   "cell_type": "code",
   "execution_count": 32,
   "id": "409fdd7c",
   "metadata": {},
   "outputs": [
    {
     "data": {
      "text/plain": [
       "5.100000000000001"
      ]
     },
     "execution_count": 32,
     "metadata": {},
     "output_type": "execute_result"
    }
   ],
   "source": [
    "b0 = np.mean(Y1) - b1 * np.mean(X1)\n",
    "b0"
   ]
  },
  {
   "cell_type": "markdown",
   "id": "2c592dca",
   "metadata": {},
   "source": [
    "Проверяем с помощью встроенной функции"
   ]
  },
  {
   "cell_type": "code",
   "execution_count": 6,
   "id": "58d8ca2b",
   "metadata": {},
   "outputs": [],
   "source": [
    "model = LinearRegression()"
   ]
  },
  {
   "cell_type": "code",
   "execution_count": 7,
   "id": "273196cd",
   "metadata": {},
   "outputs": [
    {
     "data": {
      "text/plain": [
       "array([[30],\n",
       "       [30],\n",
       "       [40],\n",
       "       [40]])"
      ]
     },
     "execution_count": 7,
     "metadata": {},
     "output_type": "execute_result"
    }
   ],
   "source": [
    "X1 = X1.reshape(-1, 1)\n",
    "X1"
   ]
  },
  {
   "cell_type": "code",
   "execution_count": 8,
   "id": "ed0502cb",
   "metadata": {},
   "outputs": [],
   "source": [
    "regres = model.fit(X1, Y1)"
   ]
  },
  {
   "cell_type": "code",
   "execution_count": 9,
   "id": "16e0050e",
   "metadata": {},
   "outputs": [
    {
     "name": "stdout",
     "output_type": "stream",
     "text": [
      "3.0\n"
     ]
    }
   ],
   "source": [
    "print(regres.intercept_)"
   ]
  },
  {
   "cell_type": "code",
   "execution_count": 10,
   "id": "139b9d60",
   "metadata": {},
   "outputs": [
    {
     "name": "stdout",
     "output_type": "stream",
     "text": [
      "[1.3]\n"
     ]
    }
   ],
   "source": [
    "print(regres.coef_)"
   ]
  },
  {
   "cell_type": "code",
   "execution_count": 24,
   "id": "62889813",
   "metadata": {},
   "outputs": [
    {
     "data": {
      "image/png": "[encoded data removed]",
      "text/plain": [
       "<Figure size 640x480 with 1 Axes>"
      ]
     },
     "metadata": {},
     "output_type": "display_data"
    }
   ],
   "source": [
    "plt.scatter(X1, Y1)\n",
    "plt.plot(X1, 3 + 1.3 * X1)\n",
    "plt.title('Коэффициент детерминации r= 0,62825')\n",
    "plt.xlabel('x')\n",
    "plt.ylabel('y')\n",
    "plt.show()"
   ]
  },
  {
   "cell_type": "code",
   "execution_count": 23,
   "id": "716f974f",
   "metadata": {},
   "outputs": [
    {
     "data": {
      "text/plain": [
       "0.6282527881040891"
      ]
     },
     "execution_count": 23,
     "metadata": {},
     "output_type": "execute_result"
    }
   ],
   "source": [
    "(np.corrcoef(X1, Y1) [1, 0]) ** 2"
   ]
  },
  {
   "cell_type": "code",
   "execution_count": 22,
   "id": "5da55a8c",
   "metadata": {},
   "outputs": [
    {
     "data": {
      "text/plain": [
       "0.6282464644"
      ]
     },
     "execution_count": 22,
     "metadata": {},
     "output_type": "execute_result"
    }
   ],
   "source": [
    "n = 0.79262 ** 2\n",
    "n"
   ]
  },
  {
   "cell_type": "markdown",
   "id": "2cf5ac1e",
   "metadata": {},
   "source": [
    "Следующие данные: "
   ]
  },
  {
   "cell_type": "code",
   "execution_count": 46,
   "id": "4597197d",
   "metadata": {},
   "outputs": [],
   "source": [
    "x2= np.array([30, 30, 40, 40, 20, 20, 50, 50])\n",
    "y2= np.array([37, 47, 50, 60, 25, 35, 62, 72])"
   ]
  },
  {
   "cell_type": "code",
   "execution_count": 30,
   "id": "c704038b",
   "metadata": {},
   "outputs": [
    {
     "data": {
      "text/plain": [
       "1.24"
      ]
     },
     "execution_count": 30,
     "metadata": {},
     "output_type": "execute_result"
    }
   ],
   "source": [
    "b1 = (np.mean(x2 * y2) - np.mean(x2) * np.mean(y2)) / (np.mean(x2 ** 2) - np.mean(x2) ** 2)\n",
    "b1"
   ]
  },
  {
   "cell_type": "code",
   "execution_count": 31,
   "id": "0a9b0906",
   "metadata": {},
   "outputs": [
    {
     "data": {
      "text/plain": [
       "5.100000000000001"
      ]
     },
     "execution_count": 31,
     "metadata": {},
     "output_type": "execute_result"
    }
   ],
   "source": [
    "b0 = np.mean(y2) - b1 * np.mean(x2)\n",
    "b0"
   ]
  },
  {
   "cell_type": "code",
   "execution_count": 33,
   "id": "7e70ca42",
   "metadata": {},
   "outputs": [],
   "source": [
    "model = LinearRegression() # встроенная функция считает линейную регрессию матричным методом"
   ]
  },
  {
   "cell_type": "code",
   "execution_count": 34,
   "id": "ccaba856",
   "metadata": {},
   "outputs": [
    {
     "data": {
      "text/plain": [
       "array([[30],\n",
       "       [30],\n",
       "       [40],\n",
       "       [40],\n",
       "       [20],\n",
       "       [20],\n",
       "       [50],\n",
       "       [50]])"
      ]
     },
     "execution_count": 34,
     "metadata": {},
     "output_type": "execute_result"
    }
   ],
   "source": [
    "x2 = x2.reshape(-1, 1)\n",
    "x2"
   ]
  },
  {
   "cell_type": "code",
   "execution_count": 36,
   "id": "b29123fe",
   "metadata": {},
   "outputs": [],
   "source": [
    "regres = model.fit(x2, y2)"
   ]
  },
  {
   "cell_type": "code",
   "execution_count": 37,
   "id": "7c0bf388",
   "metadata": {},
   "outputs": [
    {
     "name": "stdout",
     "output_type": "stream",
     "text": [
      "5.1000000000000085\n"
     ]
    }
   ],
   "source": [
    "print(regres.intercept_)"
   ]
  },
  {
   "cell_type": "code",
   "execution_count": 48,
   "id": "a44abc68",
   "metadata": {},
   "outputs": [
    {
     "name": "stdout",
     "output_type": "stream",
     "text": [
      "[1.24]\n"
     ]
    }
   ],
   "source": [
    "print(regres.coef_)"
   ]
  },
  {
   "cell_type": "code",
   "execution_count": 49,
   "id": "db766e67",
   "metadata": {},
   "outputs": [],
   "source": [
    "x2= np.array([30, 30, 40, 40, 20, 20, 50, 50])\n",
    "y2= np.array([37, 47, 50, 60, 25, 35, 62, 72])"
   ]
  },
  {
   "cell_type": "code",
   "execution_count": 52,
   "id": "32ca0995",
   "metadata": {},
   "outputs": [
    {
     "data": {
      "text/plain": [
       "0.8846950517836597"
      ]
     },
     "execution_count": 52,
     "metadata": {},
     "output_type": "execute_result"
    }
   ],
   "source": [
    "(np.corrcoef(x2, y2) [1, 0]) ** 2"
   ]
  },
  {
   "cell_type": "code",
   "execution_count": 53,
   "id": "3867c1f3",
   "metadata": {
    "scrolled": true
   },
   "outputs": [
    {
     "data": {
      "image/png": "[encoded data removed]",
      "text/plain": [
       "<Figure size 640x480 with 1 Axes>"
      ]
     },
     "metadata": {},
     "output_type": "display_data"
    }
   ],
   "source": [
    "plt.scatter(x2, y2)\n",
    "plt.plot(x2, 5.1 + 1.24 * x2)\n",
    "plt.title('Коэффициент детерминации r= 0.8846')\n",
    "plt.xlabel('x')\n",
    "plt.ylabel('y')\n",
    "plt.show()"
   ]
  },
  {
   "cell_type": "markdown",
   "id": "9b54b03f",
   "metadata": {},
   "source": [
    "Следующие данные: "
   ]
  },
  {
   "cell_type": "code",
   "execution_count": 61,
   "id": "4aaa16d7",
   "metadata": {},
   "outputs": [],
   "source": [
    "X3 = np.array([30,30,40, 40, 20, 20, 50, 50, 10, 10, 60, 60])\n",
    "Y3 = np.array([37, 47, 50, 60, 25, 35, 62, 72, 13, 23, 74, 84])"
   ]
  },
  {
   "cell_type": "code",
   "execution_count": 55,
   "id": "4a4de0c4",
   "metadata": {},
   "outputs": [
    {
     "data": {
      "text/plain": [
       "0.9459101071621309"
      ]
     },
     "execution_count": 55,
     "metadata": {},
     "output_type": "execute_result"
    }
   ],
   "source": [
    "(np.corrcoef(X3, Y3) [1, 0]) ** 2"
   ]
  },
  {
   "cell_type": "markdown",
   "id": "8f42beef",
   "metadata": {},
   "source": [
    "Ищем коэффициенты по формулам:"
   ]
  },
  {
   "cell_type": "code",
   "execution_count": 56,
   "id": "c7d1d834",
   "metadata": {},
   "outputs": [
    {
     "data": {
      "text/plain": [
       "1.2257142857142853"
      ]
     },
     "execution_count": 56,
     "metadata": {},
     "output_type": "execute_result"
    }
   ],
   "source": [
    "b1 = (np.mean(X3 * Y3) - np.mean(X3) * np.mean(Y3)) / (np.mean(X3 ** 2) - np.mean(X3) ** 2)\n",
    "b1"
   ]
  },
  {
   "cell_type": "code",
   "execution_count": 58,
   "id": "500ac842",
   "metadata": {},
   "outputs": [
    {
     "data": {
      "text/plain": [
       "5.600000000000016"
      ]
     },
     "execution_count": 58,
     "metadata": {},
     "output_type": "execute_result"
    }
   ],
   "source": [
    "b0 = np.mean(Y3) - b1 * np.mean(X3)\n",
    "b0"
   ]
  },
  {
   "cell_type": "markdown",
   "id": "d5de089b",
   "metadata": {},
   "source": [
    "Матричный способ нахождения коэффициентов"
   ]
  },
  {
   "cell_type": "code",
   "execution_count": 63,
   "id": "577c7763",
   "metadata": {},
   "outputs": [
    {
     "data": {
      "text/plain": [
       "array([[30],\n",
       "       [30],\n",
       "       [40],\n",
       "       [40],\n",
       "       [20],\n",
       "       [20],\n",
       "       [50],\n",
       "       [50],\n",
       "       [10],\n",
       "       [10],\n",
       "       [60],\n",
       "       [60]])"
      ]
     },
     "execution_count": 63,
     "metadata": {},
     "output_type": "execute_result"
    }
   ],
   "source": [
    "X3 = X3.reshape((len(X3), 1)) # преобразование массива в вектор-столбец\n",
    "X3"
   ]
  },
  {
   "cell_type": "code",
   "execution_count": 64,
   "id": "583ed922",
   "metadata": {},
   "outputs": [
    {
     "data": {
      "text/plain": [
       "array([[37],\n",
       "       [47],\n",
       "       [50],\n",
       "       [60],\n",
       "       [25],\n",
       "       [35],\n",
       "       [62],\n",
       "       [72],\n",
       "       [13],\n",
       "       [23],\n",
       "       [74],\n",
       "       [84]])"
      ]
     },
     "execution_count": 64,
     "metadata": {},
     "output_type": "execute_result"
    }
   ],
   "source": [
    "Y3 = Y3.reshape((len(Y3), 1))\n",
    "Y3"
   ]
  },
  {
   "cell_type": "code",
   "execution_count": 68,
   "id": "a3dedfa4",
   "metadata": {},
   "outputs": [
    {
     "data": {
      "text/plain": [
       "array([[ 1., 30.],\n",
       "       [ 1., 30.],\n",
       "       [ 1., 40.],\n",
       "       [ 1., 40.],\n",
       "       [ 1., 20.],\n",
       "       [ 1., 20.],\n",
       "       [ 1., 50.],\n",
       "       [ 1., 50.],\n",
       "       [ 1., 10.],\n",
       "       [ 1., 10.],\n",
       "       [ 1., 60.],\n",
       "       [ 1., 60.]])"
      ]
     },
     "execution_count": 68,
     "metadata": {},
     "output_type": "execute_result"
    }
   ],
   "source": [
    "X = np.hstack([np.ones((len(X3), 1)), X3])  # добавление столбца со значениями 1\n",
    "X"
   ]
  },
  {
   "cell_type": "code",
   "execution_count": 70,
   "id": "5b36516a",
   "metadata": {},
   "outputs": [
    {
     "data": {
      "text/plain": [
       "array([[5.6       ],\n",
       "       [1.22571429]])"
      ]
     },
     "execution_count": 70,
     "metadata": {},
     "output_type": "execute_result"
    }
   ],
   "source": [
    "B = np.dot(np.linalg.inv(np.dot(X.T, X)), X.T @ Y3)\n",
    "B"
   ]
  },
  {
   "cell_type": "code",
   "execution_count": 72,
   "id": "d98e2753",
   "metadata": {},
   "outputs": [
    {
     "data": {
      "image/png": "[encoded data removed]",
      "text/plain": [
       "<Figure size 640x480 with 1 Axes>"
      ]
     },
     "metadata": {},
     "output_type": "display_data"
    }
   ],
   "source": [
    "plt.scatter(X3, Y3)\n",
    "plt.plot(X3, 5.6 + 1.225 * X3)\n",
    "plt.title('Коэффициент детерминации r= 0.9459')\n",
    "plt.xlabel('x')\n",
    "plt.ylabel('y')\n",
    "plt.show()"
   ]
  },
  {
   "cell_type": "markdown",
   "id": "a832f5ff",
   "metadata": {},
   "source": [
    "Модель линейной регрессии"
   ]
  },
  {
   "cell_type": "code",
   "execution_count": 88,
   "id": "f7177924",
   "metadata": {},
   "outputs": [],
   "source": [
    "x = np.array([10, 8, 13, 9, 11, 14, 6, 4, 12, 7,5])\n",
    "y = np.array([8.04, 6.95, 7.58, 8.81, 8.33, 9.96, 7.24, 4.26, 10.84, 4.82, 5.68 ])"
   ]
  },
  {
   "cell_type": "code",
   "execution_count": 89,
   "id": "dd1e7bd7",
   "metadata": {},
   "outputs": [
    {
     "data": {
      "text/plain": [
       "0.666542459508775"
      ]
     },
     "execution_count": 89,
     "metadata": {},
     "output_type": "execute_result"
    }
   ],
   "source": [
    "(np.corrcoef(x, y) [1, 0]) ** 2"
   ]
  },
  {
   "cell_type": "code",
   "execution_count": 82,
   "id": "99dd98a1",
   "metadata": {},
   "outputs": [],
   "source": [
    "model = LinearRegression()"
   ]
  },
  {
   "cell_type": "code",
   "execution_count": 83,
   "id": "39cf48ab",
   "metadata": {},
   "outputs": [
    {
     "data": {
      "text/plain": [
       "array([[10],\n",
       "       [ 8],\n",
       "       [13],\n",
       "       [ 9],\n",
       "       [11],\n",
       "       [14],\n",
       "       [ 6],\n",
       "       [ 4],\n",
       "       [12],\n",
       "       [ 7],\n",
       "       [ 5]])"
      ]
     },
     "execution_count": 83,
     "metadata": {},
     "output_type": "execute_result"
    }
   ],
   "source": [
    "x = x.reshape(-1, 1)\n",
    "x"
   ]
  },
  {
   "cell_type": "code",
   "execution_count": 84,
   "id": "eebda5fa",
   "metadata": {},
   "outputs": [],
   "source": [
    "regres = model.fit(x, y)"
   ]
  },
  {
   "cell_type": "code",
   "execution_count": 85,
   "id": "21239ba5",
   "metadata": {},
   "outputs": [
    {
     "name": "stdout",
     "output_type": "stream",
     "text": [
      "3.0000909090909094\n"
     ]
    }
   ],
   "source": [
    "print(regres.intercept_)"
   ]
  },
  {
   "cell_type": "code",
   "execution_count": 86,
   "id": "627071c7",
   "metadata": {},
   "outputs": [
    {
     "name": "stdout",
     "output_type": "stream",
     "text": [
      "[0.50009091]\n"
     ]
    }
   ],
   "source": [
    "print(regres.coef_)"
   ]
  },
  {
   "cell_type": "code",
   "execution_count": 106,
   "id": "d56ed696",
   "metadata": {},
   "outputs": [
    {
     "data": {
      "image/png": "[encoded data removed]",
      "text/plain": [
       "<Figure size 640x480 with 1 Axes>"
      ]
     },
     "metadata": {},
     "output_type": "display_data"
    }
   ],
   "source": [
    "plt.scatter(x, y)\n",
    "plt.plot(x, 3 + 0.5 * x)\n",
    "plt.title('Коэффициент детерминации r= 0.6665')\n",
    "plt.xlabel('x')\n",
    "plt.ylabel('y')\n",
    "plt.show()"
   ]
  },
  {
   "cell_type": "code",
   "execution_count": 108,
   "id": "db5eb134",
   "metadata": {},
   "outputs": [
    {
     "data": {
      "text/plain": [
       "array([ 8. ,  7. ,  9.5,  7.5,  8.5, 10. ,  6. ,  5. ,  9. ,  6.5,  5.5])"
      ]
     },
     "execution_count": 108,
     "metadata": {},
     "output_type": "execute_result"
    }
   ],
   "source": [
    "b0 = 3\n",
    "b1 = 0.5\n",
    "y_pred = b0 + b1 * x\n",
    "y_pred"
   ]
  },
  {
   "cell_type": "code",
   "execution_count": 110,
   "id": "6c48162a",
   "metadata": {},
   "outputs": [
    {
     "data": {
      "text/plain": [
       "array([ 0.04, -0.05, -1.92,  1.31, -0.17, -0.04,  1.24, -0.74,  1.84,\n",
       "       -1.68,  0.18])"
      ]
     },
     "execution_count": 110,
     "metadata": {},
     "output_type": "execute_result"
    }
   ],
   "source": [
    "resid = y - y_pred\n",
    "resid"
   ]
  },
  {
   "cell_type": "code",
   "execution_count": 111,
   "id": "0d587921",
   "metadata": {},
   "outputs": [
    {
     "data": {
      "text/plain": [
       "ShapiroResult(statistic=0.9420998096466064, pvalue=0.545490026473999)"
      ]
     },
     "execution_count": 111,
     "metadata": {},
     "output_type": "execute_result"
    }
   ],
   "source": [
    "stats.shapiro(resid)"
   ]
  },
  {
   "cell_type": "markdown",
   "id": "30af631a",
   "metadata": {},
   "source": [
    "Следующие данные"
   ]
  },
  {
   "cell_type": "code",
   "execution_count": 101,
   "id": "32ff6d41",
   "metadata": {},
   "outputs": [],
   "source": [
    "x= np.array([ 10,8, 13, 9,11,14, 6, 4, 12, 7,5 ])\n",
    "y2 = np.array([ 9.14, 8.14, 8.74, 8.77, 9.26, 8.10, 6.13, 3.10, 9.13, 7.26, 4.74])"
   ]
  },
  {
   "cell_type": "code",
   "execution_count": 93,
   "id": "98c16145",
   "metadata": {},
   "outputs": [
    {
     "data": {
      "text/plain": [
       "0.6662420337274841"
      ]
     },
     "execution_count": 93,
     "metadata": {},
     "output_type": "execute_result"
    }
   ],
   "source": [
    "(np.corrcoef(x, y2) [1, 0]) ** 2"
   ]
  },
  {
   "cell_type": "code",
   "execution_count": 94,
   "id": "9c21deb8",
   "metadata": {},
   "outputs": [],
   "source": [
    "model = LinearRegression()"
   ]
  },
  {
   "cell_type": "code",
   "execution_count": 95,
   "id": "b4ea938e",
   "metadata": {},
   "outputs": [
    {
     "data": {
      "text/plain": [
       "array([[10],\n",
       "       [ 8],\n",
       "       [13],\n",
       "       [ 9],\n",
       "       [11],\n",
       "       [14],\n",
       "       [ 6],\n",
       "       [ 4],\n",
       "       [12],\n",
       "       [ 7],\n",
       "       [ 5]])"
      ]
     },
     "execution_count": 95,
     "metadata": {},
     "output_type": "execute_result"
    }
   ],
   "source": [
    "x = x.reshape(-1, 1)\n",
    "x"
   ]
  },
  {
   "cell_type": "code",
   "execution_count": 96,
   "id": "e9f02f84",
   "metadata": {},
   "outputs": [],
   "source": [
    "regres = model.fit(x, y2)"
   ]
  },
  {
   "cell_type": "code",
   "execution_count": 97,
   "id": "f1316038",
   "metadata": {},
   "outputs": [
    {
     "name": "stdout",
     "output_type": "stream",
     "text": [
      "3.000909090909089\n"
     ]
    }
   ],
   "source": [
    "print(regres.intercept_)"
   ]
  },
  {
   "cell_type": "code",
   "execution_count": 98,
   "id": "5d56bdbc",
   "metadata": {},
   "outputs": [
    {
     "name": "stdout",
     "output_type": "stream",
     "text": [
      "[0.5]\n"
     ]
    }
   ],
   "source": [
    "print(regres.coef_)"
   ]
  },
  {
   "cell_type": "code",
   "execution_count": 99,
   "id": "5d0dcbb2",
   "metadata": {},
   "outputs": [
    {
     "data": {
      "image/png": "[encoded data removed]",
      "text/plain": [
       "<Figure size 640x480 with 1 Axes>"
      ]
     },
     "metadata": {},
     "output_type": "display_data"
    }
   ],
   "source": [
    "plt.scatter(x, y2)\n",
    "plt.plot(x, 3 + 0.5 * x)\n",
    "plt.title('Коэффициент детерминации r= 0.6662')\n",
    "plt.xlabel('x')\n",
    "plt.ylabel('y')\n",
    "plt.show()"
   ]
  },
  {
   "cell_type": "code",
   "execution_count": 102,
   "id": "2f1cdc32",
   "metadata": {},
   "outputs": [
    {
     "data": {
      "text/plain": [
       "array([ 8. ,  7. ,  9.5,  7.5,  8.5, 10. ,  6. ,  5. ,  9. ,  6.5,  5.5])"
      ]
     },
     "execution_count": 102,
     "metadata": {},
     "output_type": "execute_result"
    }
   ],
   "source": [
    "b0 = 3\n",
    "b1 = 0.5\n",
    "y_pred = b0 + b1 * x\n",
    "y_pred"
   ]
  },
  {
   "cell_type": "code",
   "execution_count": 104,
   "id": "76622e70",
   "metadata": {},
   "outputs": [
    {
     "data": {
      "text/plain": [
       "array([ 1.14,  1.14, -0.76,  1.27,  0.76, -1.9 ,  0.13, -1.9 ,  0.13,\n",
       "        0.76, -0.76])"
      ]
     },
     "execution_count": 104,
     "metadata": {},
     "output_type": "execute_result"
    }
   ],
   "source": [
    "resid = y2 - y_pred\n",
    "resid"
   ]
  },
  {
   "cell_type": "code",
   "execution_count": 105,
   "id": "93fbedf9",
   "metadata": {},
   "outputs": [
    {
     "data": {
      "text/plain": [
       "ShapiroResult(statistic=0.8761528730392456, pvalue=0.09294866025447845)"
      ]
     },
     "execution_count": 105,
     "metadata": {},
     "output_type": "execute_result"
    }
   ],
   "source": [
    "stats.shapiro(resid)"
   ]
  },
  {
   "cell_type": "code",
   "execution_count": null,
   "id": "e115bfc7",
   "metadata": {},
   "outputs": [],
   "source": []
  }
 ],
 "metadata": {
  "kernelspec": {
   "display_name": "Python 3 (ipykernel)",
   "language": "python",
   "name": "python3"
  },
  "language_info": {
   "codemirror_mode": {
    "name": "ipython",
    "version": 3
   },
   "file_extension": ".py",
   "mimetype": "text/x-python",
   "name": "python",
   "nbconvert_exporter": "python",
   "pygments_lexer": "ipython3",
   "version": "3.9.13"
  }
 },
 "nbformat": 4,
 "nbformat_minor": 5
}
