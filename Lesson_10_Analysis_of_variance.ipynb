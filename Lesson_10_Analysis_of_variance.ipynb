{
 "cells": [
  {
   "cell_type": "markdown",
   "id": "fda68441",
   "metadata": {},
   "source": [
    "### Дисперсионный анализ"
   ]
  },
  {
   "cell_type": "markdown",
   "id": "7dd3414f",
   "metadata": {},
   "source": [
    "**Задача:   \n",
    "Даны заработные платы юристов, программистов и бухгалтеров. Определить, влияет ли профессия на заработную плату!**"
   ]
  },
  {
   "cell_type": "code",
   "execution_count": 2,
   "id": "10f240fa",
   "metadata": {},
   "outputs": [],
   "source": [
    "import numpy as np\n",
    "import matplotlib.pyplot as plt\n",
    "import scipy.stats as stats\n",
    "import statsmodels.api as sm\n",
    "import pandas as pd"
   ]
  },
  {
   "cell_type": "code",
   "execution_count": 3,
   "id": "6c3a7225",
   "metadata": {},
   "outputs": [],
   "source": [
    "y1 = np.array([70, 50, 65, 60, 75, 67, 74])         # зарплата бухгалтеров\n",
    "y2 = np.array([80, 74, 90, 70, 75, 65, 85])         # зарплата юристов\n",
    "y3 = np.array([148, 142, 140, 150, 160, 170, 155])  # зарплата программистов"
   ]
  },
  {
   "cell_type": "code",
   "execution_count": 4,
   "id": "35f5e62d",
   "metadata": {},
   "outputs": [],
   "source": [
    "k = 3    # количество сравниваемых групп\n",
    "n = 21   # общее количество значений во всех группах"
   ]
  },
  {
   "cell_type": "code",
   "execution_count": 5,
   "id": "76462943",
   "metadata": {},
   "outputs": [
    {
     "data": {
      "text/plain": [
       "65.85714285714286"
      ]
     },
     "execution_count": 5,
     "metadata": {},
     "output_type": "execute_result"
    }
   ],
   "source": [
    "y_mean_1 = np.mean(y1)  # среднее арифметическое для зарплаты бухгалтеров\n",
    "y_mean_1"
   ]
  },
  {
   "cell_type": "code",
   "execution_count": 6,
   "id": "144b0b42",
   "metadata": {},
   "outputs": [
    {
     "data": {
      "text/plain": [
       "77.0"
      ]
     },
     "execution_count": 6,
     "metadata": {},
     "output_type": "execute_result"
    }
   ],
   "source": [
    "y_mean_2 = np.mean(y2)  # среднее арифметическое для зарплаты юристов\n",
    "y_mean_2"
   ]
  },
  {
   "cell_type": "code",
   "execution_count": 7,
   "id": "7e1e59b7",
   "metadata": {},
   "outputs": [
    {
     "data": {
      "text/plain": [
       "152.14285714285714"
      ]
     },
     "execution_count": 7,
     "metadata": {},
     "output_type": "execute_result"
    }
   ],
   "source": [
    "y_mean_3 = np.mean(y3)  # среднее арифметическое для зарплаты программистов\n",
    "y_mean_3"
   ]
  },
  {
   "cell_type": "code",
   "execution_count": 10,
   "id": "5948f02b",
   "metadata": {},
   "outputs": [
    {
     "data": {
      "text/plain": [
       "array([[70, 50, 65, 60, 75, 67, 74],\n",
       "       [80, 74, 90, 70, 75, 65, 85],\n",
       "       [148, 142, 140, 150, 160, 170, 155]], dtype=object)"
      ]
     },
     "execution_count": 10,
     "metadata": {},
     "output_type": "execute_result"
    }
   ],
   "source": [
    "total = np.array([y1, y2, y3], dtype=object)  # объединяем три массива в один\n",
    "total"
   ]
  },
  {
   "cell_type": "code",
   "execution_count": 11,
   "id": "861b13f6",
   "metadata": {},
   "outputs": [
    {
     "data": {
      "text/plain": [
       "98.33333333333333"
      ]
     },
     "execution_count": 11,
     "metadata": {},
     "output_type": "execute_result"
    }
   ],
   "source": [
    "y_mean_total = np.mean(total)\n",
    "y_mean_total"
   ]
  },
  {
   "cell_type": "markdown",
   "id": "5868db1a",
   "metadata": {},
   "source": [
    "Сумма квадратов отклонений наблюдений от общего среднего:"
   ]
  },
  {
   "cell_type": "code",
   "execution_count": 36,
   "id": "b739e1a1",
   "metadata": {},
   "outputs": [
    {
     "data": {
      "text/plain": [
       "32400.66666666667"
      ]
     },
     "execution_count": 36,
     "metadata": {},
     "output_type": "execute_result"
    }
   ],
   "source": [
    "np.sum((total - y_mean_total) ** 2)   # отложим это значение"
   ]
  },
  {
   "cell_type": "markdown",
   "id": "9aad5196",
   "metadata": {},
   "source": [
    "Сумма квадратов отклонений средних групповых значений от общего среднего (фактическая):"
   ]
  },
  {
   "cell_type": "code",
   "execution_count": 37,
   "id": "dd431600",
   "metadata": {},
   "outputs": [
    {
     "data": {
      "text/plain": [
       "30836.952380952374"
      ]
     },
     "execution_count": 37,
     "metadata": {},
     "output_type": "execute_result"
    }
   ],
   "source": [
    "S_f = np.sum((y_mean_1 - y_mean_total) ** 2) * 7 + np.sum((y_mean_2 - y_mean_total) ** 2) * 7 + np.sum((y_mean_3 - y_mean_total) ** 2) * 7\n",
    "S_f"
   ]
  },
  {
   "cell_type": "markdown",
   "id": "b18f1d93",
   "metadata": {},
   "source": [
    "Остаточная сумма квадратных отклонений: "
   ]
  },
  {
   "cell_type": "code",
   "execution_count": 39,
   "id": "a4ad0e44",
   "metadata": {},
   "outputs": [
    {
     "data": {
      "text/plain": [
       "1563.7142857142858"
      ]
     },
     "execution_count": 39,
     "metadata": {},
     "output_type": "execute_result"
    }
   ],
   "source": [
    "S_ost = np.sum((y1 - y_mean_1) ** 2) + np.sum((y2 - y_mean_2) ** 2) + np.sum((y3 - y_mean_3) ** 2)\n",
    "S_ost"
   ]
  },
  {
   "cell_type": "markdown",
   "id": "5c67655d",
   "metadata": {},
   "source": [
    "Проверим: Общая сумма квадратных отклонений должна быть равна сумме фактических и останочных квадратных отклонений:"
   ]
  },
  {
   "cell_type": "code",
   "execution_count": 41,
   "id": "fcf55e6b",
   "metadata": {},
   "outputs": [
    {
     "name": "stdout",
     "output_type": "stream",
     "text": [
      "32400.66666666666\n"
     ]
    },
    {
     "data": {
      "text/plain": [
       "32400.66666666667"
      ]
     },
     "execution_count": 41,
     "metadata": {},
     "output_type": "execute_result"
    }
   ],
   "source": [
    "print(S_f + S_ost)\n",
    "np.sum((total - y_mean_total) ** 2)"
   ]
  },
  {
   "cell_type": "markdown",
   "id": "720de63e",
   "metadata": {},
   "source": [
    "Найдем фактическую и останочную дисперсии:    \n",
    "$\\sigma_{факт}^2 = \\frac{S_{факт}^2}{k-1}$    \n",
    "$\\sigma_{ост}^2 = \\frac{S_{ост}^2}{n-k}$"
   ]
  },
  {
   "cell_type": "code",
   "execution_count": 42,
   "id": "d0215ebe",
   "metadata": {},
   "outputs": [
    {
     "data": {
      "text/plain": [
       "15418.476190476187"
      ]
     },
     "execution_count": 42,
     "metadata": {},
     "output_type": "execute_result"
    }
   ],
   "source": [
    "D_f = S_f/(k - 1)\n",
    "D_f"
   ]
  },
  {
   "cell_type": "code",
   "execution_count": 43,
   "id": "9dab61ef",
   "metadata": {},
   "outputs": [
    {
     "data": {
      "text/plain": [
       "86.87301587301587"
      ]
     },
     "execution_count": 43,
     "metadata": {},
     "output_type": "execute_result"
    }
   ],
   "source": [
    "D_ost = S_ost/(n - k)\n",
    "D_ost"
   ]
  },
  {
   "cell_type": "markdown",
   "id": "2e827078",
   "metadata": {},
   "source": [
    "Найдем наблюдаемый коэффициент Фишера:   \n",
    "$F_н = \\frac{\\sigma_{факт}^2}{\\sigma_{ост}^2}$"
   ]
  },
  {
   "cell_type": "code",
   "execution_count": 45,
   "id": "00b69193",
   "metadata": {},
   "outputs": [
    {
     "data": {
      "text/plain": [
       "177.48291613374744"
      ]
     },
     "execution_count": 45,
     "metadata": {},
     "output_type": "execute_result"
    }
   ],
   "source": [
    "F_n = D_f/D_ost\n",
    "F_n"
   ]
  },
  {
   "cell_type": "markdown",
   "id": "97820f05",
   "metadata": {},
   "source": [
    "Табличный коэффициент Фишера находим исходя из степеней свободы числитея (2) и знаменателя (18) равен 3,55 "
   ]
  },
  {
   "cell_type": "markdown",
   "id": "6e396649",
   "metadata": {},
   "source": [
    "Воспользовавшись встроенной функцией для определения коэффициента Фишера"
   ]
  },
  {
   "cell_type": "code",
   "execution_count": 47,
   "id": "11cdb6af",
   "metadata": {},
   "outputs": [
    {
     "data": {
      "text/plain": [
       "F_onewayResult(statistic=177.48291613374704, pvalue=1.420466900107174e-12)"
      ]
     },
     "execution_count": 47,
     "metadata": {},
     "output_type": "execute_result"
    }
   ],
   "source": [
    "f = stats.f_oneway(y1, y2, y3)\n",
    "f"
   ]
  },
  {
   "cell_type": "markdown",
   "id": "c7445d71",
   "metadata": {},
   "source": [
    "видим, что p-value меньше 0,05, поэтому делаем заключение, что существкет статистически значимые отличия между заработными платами рассматриваемых профессий.  "
   ]
  },
  {
   "cell_type": "markdown",
   "id": "3b3171cd",
   "metadata": {},
   "source": [
    "*Но мы не знаем между какими именно профессиями существуют различия*"
   ]
  },
  {
   "cell_type": "markdown",
   "id": "64a6085c",
   "metadata": {},
   "source": [
    "**Post hoc test Tukey!**    \n",
    "Воспользуемся Post hoc тестом Тьюка"
   ]
  },
  {
   "cell_type": "code",
   "execution_count": 50,
   "id": "a285b8f0",
   "metadata": {},
   "outputs": [],
   "source": [
    "from statsmodels.stats.multicomp import pairwise_tukeyhsd"
   ]
  },
  {
   "cell_type": "code",
   "execution_count": 52,
   "id": "6df20c62",
   "metadata": {},
   "outputs": [
    {
     "name": "stdout",
     "output_type": "stream",
     "text": [
      "    Multiple Comparison of Means - Tukey HSD, FWER=0.05    \n",
      "===========================================================\n",
      "  group1    group2   meandiff p-adj   lower   upper  reject\n",
      "-----------------------------------------------------------\n",
      "acountant     lawyer  11.1429 0.0918 -1.5722 23.8579  False\n",
      "acountant programmer  86.2857    0.0 73.5707 99.0007   True\n",
      "   lawyer programmer  75.1429    0.0 62.4278 87.8579   True\n",
      "-----------------------------------------------------------\n"
     ]
    }
   ],
   "source": [
    "# Создадит дата фрэйм для вывода результатов в виде таблицы\n",
    "df= pd.DataFrame({'score': [70, 50, 65, 60, 75, 67, 74,\n",
    "                            80, 74, 90, 70, 75, 65, 85,\n",
    "                            148, 142, 140, 150, 160, 170, 155],\n",
    "                  'group': np.repeat(['acountant', 'lawyer', 'programmer'], repeats=7)})\n",
    "tukey = pairwise_tukeyhsd(endog=df['score'],\n",
    "                          groups=df['group'],\n",
    "                          alpha=0.05)\n",
    "print(tukey)"
   ]
  },
  {
   "cell_type": "markdown",
   "id": "53b76743",
   "metadata": {},
   "source": [
    "Видим, что статистически значимых отличий между зарплатами бухгалтеров и юристов нет, однако отличия есть между зарплатой программистов и бухгалтеров и программистов и юристов."
   ]
  },
  {
   "cell_type": "markdown",
   "id": "e62c722d",
   "metadata": {},
   "source": [
    "**Духфакторый дисперсионный анализ**"
   ]
  },
  {
   "cell_type": "markdown",
   "id": "631fb085",
   "metadata": {},
   "source": [
    "*Пример с кондиционерами.*   \n",
    "Две детали в кондиционерах, которые конструктора определили ключевыми факторами, влияющими на производительности продукции. Предположим, мы будем измерять количество квадратных метров, охлажденных за какой-то определенный промежуток времени. Первая и вторая деталь  - это фактор A и фактор B соответственно. Те размеры деталей, с которыми сейчас изготавливают кондиционер, называются первым уровнем, а следующий размер для каждой детали – это 2й уровень. Для простоты мы рассмотрим дизайн эксперимента 2 Х 2. Есть 2 детали и для каждой из них есть 2 уровня. Мы будем комбинировать эти уровни и замерять производительность. Для каждой комбинации проводим эксперимент  не менее 2х раз."
   ]
  },
  {
   "cell_type": "markdown",
   "id": "edd1a34d",
   "metadata": {},
   "source": [
    "Первая комбинация – это 1й уровень детали A и 1й уровень детали B. Помним, что измерения проводятся минимум 2 раза. Мы для каждой комбинации проведем опыт по 2 раза. Первый опыт при уровнях 1-1 дал значение $57 м^2$, а при повторном измерении на этих же уровнях $59 м^2$. Среднее арифметическое для них 58.\n",
    "Давайте оформим эти комбинации уровней и значений производительности в  виде таблице.  Значения 57,  59 и их среднее 58 – это 1я ячейка со значениями. Значения 57.5 и 52 – это средние по срокам, а 45.5 и 64 – это средние по столбцам. 54.75 – это среднее по всем значениям.\n"
   ]
  },
  {
   "cell_type": "markdown",
   "id": "a67a31a3",
   "metadata": {},
   "source": [
    "Запишем значения переменных и расситаем все значения:"
   ]
  },
  {
   "cell_type": "code",
   "execution_count": 53,
   "id": "38a44f57",
   "metadata": {},
   "outputs": [
    {
     "data": {
      "text/plain": [
       "58.0"
      ]
     },
     "execution_count": 53,
     "metadata": {},
     "output_type": "execute_result"
    }
   ],
   "source": [
    "y111 = 57   # значение первого эксперимента\n",
    "y112 = 59   # значение второго эксперимента \n",
    "y11 = (y111 + y112) / 2 # среднее\n",
    "y11"
   ]
  },
  {
   "cell_type": "code",
   "execution_count": 55,
   "id": "aafa98c2",
   "metadata": {},
   "outputs": [
    {
     "data": {
      "text/plain": [
       "57.0"
      ]
     },
     "execution_count": 55,
     "metadata": {},
     "output_type": "execute_result"
    }
   ],
   "source": [
    "y121 = 56\n",
    "y122 = 58\n",
    "y12 = (y121 + y122) / 2\n",
    "y12"
   ]
  },
  {
   "cell_type": "code",
   "execution_count": 57,
   "id": "16e792db",
   "metadata": {},
   "outputs": [
    {
     "data": {
      "text/plain": [
       "33.0"
      ]
     },
     "execution_count": 57,
     "metadata": {},
     "output_type": "execute_result"
    }
   ],
   "source": [
    "y211 = 32\n",
    "y212 = 34\n",
    "y21 = (y211 + y212) / 2\n",
    "y21"
   ]
  },
  {
   "cell_type": "code",
   "execution_count": 65,
   "id": "2cca1e36",
   "metadata": {},
   "outputs": [
    {
     "data": {
      "text/plain": [
       "71.0"
      ]
     },
     "execution_count": 65,
     "metadata": {},
     "output_type": "execute_result"
    }
   ],
   "source": [
    "y221 = 71\n",
    "y222 = 71\n",
    "y22 = (y221 + y222) / 2\n",
    "y22"
   ]
  },
  {
   "cell_type": "code",
   "execution_count": 66,
   "id": "59704dc0",
   "metadata": {},
   "outputs": [
    {
     "data": {
      "text/plain": [
       "57.5"
      ]
     },
     "execution_count": 66,
     "metadata": {},
     "output_type": "execute_result"
    }
   ],
   "source": [
    "YcpA1 = (y11 + y12) / 2  # среднее для перого уровня A\n",
    "YcpA1"
   ]
  },
  {
   "cell_type": "code",
   "execution_count": 67,
   "id": "92f75319",
   "metadata": {},
   "outputs": [
    {
     "data": {
      "text/plain": [
       "52.0"
      ]
     },
     "execution_count": 67,
     "metadata": {},
     "output_type": "execute_result"
    }
   ],
   "source": [
    "YcpA2 = (y21 + y22) / 2  # среднее для второго уровня A\n",
    "YcpA2"
   ]
  },
  {
   "cell_type": "code",
   "execution_count": 68,
   "id": "fc6a095b",
   "metadata": {},
   "outputs": [
    {
     "data": {
      "text/plain": [
       "45.5"
      ]
     },
     "execution_count": 68,
     "metadata": {},
     "output_type": "execute_result"
    }
   ],
   "source": [
    "YcpB1 = (y11 + y21) / 2  # среднее для перого уровня B\n",
    "YcpB1"
   ]
  },
  {
   "cell_type": "code",
   "execution_count": 69,
   "id": "1be9c68f",
   "metadata": {},
   "outputs": [
    {
     "data": {
      "text/plain": [
       "64.0"
      ]
     },
     "execution_count": 69,
     "metadata": {},
     "output_type": "execute_result"
    }
   ],
   "source": [
    "YcpB2 = (y12 + y22) / 2 # среднее для второго уровня A\n",
    "YcpB2"
   ]
  },
  {
   "cell_type": "code",
   "execution_count": 71,
   "id": "81da2e4d",
   "metadata": {},
   "outputs": [
    {
     "data": {
      "text/plain": [
       "54.75"
      ]
     },
     "execution_count": 71,
     "metadata": {},
     "output_type": "execute_result"
    }
   ],
   "source": [
    "Ycp = np.mean(YcpA1 + YcpA2 + YcpB1 + YcpB2) / 4\n",
    "Ycp"
   ]
  },
  {
   "cell_type": "markdown",
   "id": "560d59bf",
   "metadata": {},
   "source": [
    "*Теперь будем делать расчеты и заносить их результаты в **ANOVA** таблицу*"
   ]
  },
  {
   "cell_type": "code",
   "execution_count": 73,
   "id": "9126fd16",
   "metadata": {},
   "outputs": [],
   "source": [
    "a = 2  # два уровня фактора a\n",
    "b = 2  # два уровня фактора b\n",
    "n = k = 2 # число повторных измерений"
   ]
  },
  {
   "cell_type": "code",
   "execution_count": 78,
   "id": "0846b938",
   "metadata": {},
   "outputs": [
    {
     "data": {
      "text/plain": [
       "1511.5"
      ]
     },
     "execution_count": 78,
     "metadata": {},
     "output_type": "execute_result"
    }
   ],
   "source": [
    "SSt = (y111 ** 2)+(y112 ** 2)+(y121 ** 2)+(y122 ** 2)+(y211 ** 2)+(y212 ** 2)+(y221 ** 2)+(y222 ** 2) - a*b*n*(Ycp**2)\n",
    "SSt"
   ]
  },
  {
   "cell_type": "code",
   "execution_count": 82,
   "id": "f47559e8",
   "metadata": {},
   "outputs": [
    {
     "data": {
      "text/plain": [
       "60.5"
      ]
     },
     "execution_count": 82,
     "metadata": {},
     "output_type": "execute_result"
    }
   ],
   "source": [
    "SSA = a*n*(YcpA1**2 + YcpA2**2) - a*b*n*(Ycp)**2\n",
    "SSA"
   ]
  },
  {
   "cell_type": "code",
   "execution_count": 83,
   "id": "7db88aa5",
   "metadata": {},
   "outputs": [
    {
     "data": {
      "text/plain": [
       "684.5"
      ]
     },
     "execution_count": 83,
     "metadata": {},
     "output_type": "execute_result"
    }
   ],
   "source": [
    "SSB = a*n*(YcpB1**2 + YcpB2**2) - a*b*n*(Ycp)**2\n",
    "SSB"
   ]
  },
  {
   "cell_type": "code",
   "execution_count": 87,
   "id": "04c5a8f6",
   "metadata": {},
   "outputs": [
    {
     "data": {
      "text/plain": [
       "760.5"
      ]
     },
     "execution_count": 87,
     "metadata": {},
     "output_type": "execute_result"
    }
   ],
   "source": [
    "SSAB = n*(y11**2 + y12**2 + y21**2 + y22**2) - a*b*n*(Ycp)**2 - SSA - SSB\n",
    "SSAB"
   ]
  },
  {
   "cell_type": "code",
   "execution_count": 88,
   "id": "a03bea98",
   "metadata": {},
   "outputs": [
    {
     "data": {
      "text/plain": [
       "6.0"
      ]
     },
     "execution_count": 88,
     "metadata": {},
     "output_type": "execute_result"
    }
   ],
   "source": [
    "SSE = SSt - SSA - SSB - SSAB\n",
    "SSE"
   ]
  },
  {
   "cell_type": "markdown",
   "id": "54f5d64e",
   "metadata": {},
   "source": [
    "Рассчитаем теперь степени свободы *df* и сумму квадратов отклонений в расчете на одну степень свободы."
   ]
  },
  {
   "cell_type": "code",
   "execution_count": 98,
   "id": "f6066619",
   "metadata": {},
   "outputs": [
    {
     "data": {
      "text/plain": [
       "(1, 1)"
      ]
     },
     "execution_count": 98,
     "metadata": {},
     "output_type": "execute_result"
    }
   ],
   "source": [
    "dfA = a - 1\n",
    "dfB = b - 1\n",
    "dfA, dfB"
   ]
  },
  {
   "cell_type": "code",
   "execution_count": 99,
   "id": "2b5d66ce",
   "metadata": {},
   "outputs": [
    {
     "data": {
      "text/plain": [
       "(1.0, 4)"
      ]
     },
     "execution_count": 99,
     "metadata": {},
     "output_type": "execute_result"
    }
   ],
   "source": [
    "dfAB = (a - 1)/(b - 1)\n",
    "dfE = a * b * (n -1)\n",
    "dfAB, dfE"
   ]
  },
  {
   "cell_type": "code",
   "execution_count": 100,
   "id": "b3c3a6aa",
   "metadata": {},
   "outputs": [
    {
     "data": {
      "text/plain": [
       "(60.5, 684.5)"
      ]
     },
     "execution_count": 100,
     "metadata": {},
     "output_type": "execute_result"
    }
   ],
   "source": [
    "MSA = SSA / dfA\n",
    "MSB = SSB / dfB\n",
    "MSA, MSB"
   ]
  },
  {
   "cell_type": "code",
   "execution_count": 97,
   "id": "dbbc4ccd",
   "metadata": {},
   "outputs": [
    {
     "data": {
      "text/plain": [
       "(760.5, 1.5)"
      ]
     },
     "execution_count": 97,
     "metadata": {},
     "output_type": "execute_result"
    }
   ],
   "source": [
    "MSAB = SSAB / dfAB\n",
    "MSE = SSE / dfE\n",
    "MSAB, MSE"
   ]
  },
  {
   "cell_type": "code",
   "execution_count": 96,
   "id": "590becb5",
   "metadata": {},
   "outputs": [
    {
     "data": {
      "text/plain": [
       "(40.333333333333336, 456.3333333333333, 507.0)"
      ]
     },
     "execution_count": 96,
     "metadata": {},
     "output_type": "execute_result"
    }
   ],
   "source": [
    "FA = MSA / MSE \n",
    "FB = MSB / MSE \n",
    "FAB = MSAB / MSE\n",
    "FA, FB, FAB"
   ]
  },
  {
   "cell_type": "markdown",
   "id": "29252e47",
   "metadata": {},
   "source": [
    "Теперь осталось рассчитать для каждого фактора и взаимодействия факторов критерий Фишера. Расчеты критериев мы сделаем ниже. Значения получим следующие: $F_A=40.33,F_B=456.33,F_AB=507$. И также для каждого нужно найти  табличный критерий Фишера для α = 0.05 и степеней свободы 1 и 4.  Как видите, степени свободы совпадают для факторов и их взаимодействия (ниже разберем, откуда 1 и 4), но так происходит именно в нашем случае, т.к. эксперимент 2 Х 2.    \n",
    "*Откуда 1 и 4 степеней свободы?*   \n",
    "Например, критерий Фишера для фактора А рассчитываем следующим  образом:\n",
    "$F =  MSA /  MSE$ . Когда мы искали MSA – мы $SS_A$ делили на 1 степень свободы dfA . 1 – это степень свободы числителя и в таблице находятся в горизонтальной строке.  А, когда находили MSE,то  $SS_E$ делили на 4 степени свободы. 4 –это степени свободы знаменателя и находятся в вертикальной строке таблицы. По тому же принципу степени свободы критерия Фишера для фактора B и взаимодействия факторов АB будут 1 и 4.  Т.о. в нашем примере $F_т$  для всех факторов и их взаимодействия равен 7.71\n"
   ]
  },
  {
   "cell_type": "markdown",
   "id": "ca7b96c2",
   "metadata": {},
   "source": [
    "Сейчас мы создадим уровни фактора A, уровни фактора B –массивы  fA и  fB.\n",
    "Массив values  - это значения площади, которые соответствуют комбинации уровней."
   ]
  },
  {
   "cell_type": "code",
   "execution_count": 101,
   "id": "cea66dcc",
   "metadata": {},
   "outputs": [],
   "source": [
    "import statsmodels.api as sm\n",
    "from statsmodels.formula.api import ols"
   ]
  },
  {
   "cell_type": "code",
   "execution_count": 102,
   "id": "36905cd3",
   "metadata": {},
   "outputs": [
    {
     "data": {
      "text/plain": [
       "array(['low', 'low', 'low', 'low', 'high', 'high', 'high', 'high'],\n",
       "      dtype='<U4')"
      ]
     },
     "execution_count": 102,
     "metadata": {},
     "output_type": "execute_result"
    }
   ],
   "source": [
    "fA = np.array(['low', 'low', 'low', 'low', 'high', 'high', 'high', 'high'])\n",
    "fA"
   ]
  },
  {
   "cell_type": "code",
   "execution_count": 103,
   "id": "625370ee",
   "metadata": {},
   "outputs": [
    {
     "data": {
      "text/plain": [
       "array(['low', 'low', 'high', 'high', 'low', 'low', 'high', 'high'],\n",
       "      dtype='<U4')"
      ]
     },
     "execution_count": 103,
     "metadata": {},
     "output_type": "execute_result"
    }
   ],
   "source": [
    "fB = np.array(['low', 'low', 'high', 'high', 'low', 'low', 'high', 'high'])\n",
    "fB"
   ]
  },
  {
   "cell_type": "code",
   "execution_count": 104,
   "id": "aff1e9a0",
   "metadata": {},
   "outputs": [
    {
     "data": {
      "text/plain": [
       "array([57, 59, 56, 58, 32, 34, 71, 71])"
      ]
     },
     "execution_count": 104,
     "metadata": {},
     "output_type": "execute_result"
    }
   ],
   "source": [
    "values = np.array([57, 59, 56, 58, 32, 34, 71, 71])\n",
    "values"
   ]
  },
  {
   "cell_type": "markdown",
   "id": "a2a58246",
   "metadata": {},
   "source": [
    "Построим таблицу эксперимента 2 Х 2"
   ]
  },
  {
   "cell_type": "code",
   "execution_count": 105,
   "id": "b7f09b08",
   "metadata": {},
   "outputs": [
    {
     "data": {
      "text/html": [
       "<div>\n",
       "<style scoped>\n",
       "    .dataframe tbody tr th:only-of-type {\n",
       "        vertical-align: middle;\n",
       "    }\n",
       "\n",
       "    .dataframe tbody tr th {\n",
       "        vertical-align: top;\n",
       "    }\n",
       "\n",
       "    .dataframe thead th {\n",
       "        text-align: right;\n",
       "    }\n",
       "</style>\n",
       "<table border=\"1\" class=\"dataframe\">\n",
       "  <thead>\n",
       "    <tr style=\"text-align: right;\">\n",
       "      <th></th>\n",
       "      <th>fA</th>\n",
       "      <th>fB</th>\n",
       "      <th>values</th>\n",
       "    </tr>\n",
       "  </thead>\n",
       "  <tbody>\n",
       "    <tr>\n",
       "      <th>0</th>\n",
       "      <td>low</td>\n",
       "      <td>low</td>\n",
       "      <td>57</td>\n",
       "    </tr>\n",
       "    <tr>\n",
       "      <th>1</th>\n",
       "      <td>low</td>\n",
       "      <td>low</td>\n",
       "      <td>59</td>\n",
       "    </tr>\n",
       "    <tr>\n",
       "      <th>2</th>\n",
       "      <td>low</td>\n",
       "      <td>high</td>\n",
       "      <td>56</td>\n",
       "    </tr>\n",
       "    <tr>\n",
       "      <th>3</th>\n",
       "      <td>low</td>\n",
       "      <td>high</td>\n",
       "      <td>58</td>\n",
       "    </tr>\n",
       "    <tr>\n",
       "      <th>4</th>\n",
       "      <td>high</td>\n",
       "      <td>low</td>\n",
       "      <td>32</td>\n",
       "    </tr>\n",
       "    <tr>\n",
       "      <th>5</th>\n",
       "      <td>high</td>\n",
       "      <td>low</td>\n",
       "      <td>34</td>\n",
       "    </tr>\n",
       "    <tr>\n",
       "      <th>6</th>\n",
       "      <td>high</td>\n",
       "      <td>high</td>\n",
       "      <td>71</td>\n",
       "    </tr>\n",
       "    <tr>\n",
       "      <th>7</th>\n",
       "      <td>high</td>\n",
       "      <td>high</td>\n",
       "      <td>71</td>\n",
       "    </tr>\n",
       "  </tbody>\n",
       "</table>\n",
       "</div>"
      ],
      "text/plain": [
       "     fA    fB  values\n",
       "0   low   low      57\n",
       "1   low   low      59\n",
       "2   low  high      56\n",
       "3   low  high      58\n",
       "4  high   low      32\n",
       "5  high   low      34\n",
       "6  high  high      71\n",
       "7  high  high      71"
      ]
     },
     "execution_count": 105,
     "metadata": {},
     "output_type": "execute_result"
    }
   ],
   "source": [
    "df=pd.DataFrame({'fA': fA, 'fB': fB, 'values': values})\n",
    "df"
   ]
  },
  {
   "cell_type": "markdown",
   "id": "e874a18a",
   "metadata": {},
   "source": [
    "Теперь пришло время строить **ANOVA** таблицу, но сначала построим математическую модель *lm_model*. "
   ]
  },
  {
   "cell_type": "code",
   "execution_count": 107,
   "id": "0e2f1c72",
   "metadata": {},
   "outputs": [
    {
     "data": {
      "text/html": [
       "<div>\n",
       "<style scoped>\n",
       "    .dataframe tbody tr th:only-of-type {\n",
       "        vertical-align: middle;\n",
       "    }\n",
       "\n",
       "    .dataframe tbody tr th {\n",
       "        vertical-align: top;\n",
       "    }\n",
       "\n",
       "    .dataframe thead th {\n",
       "        text-align: right;\n",
       "    }\n",
       "</style>\n",
       "<table border=\"1\" class=\"dataframe\">\n",
       "  <thead>\n",
       "    <tr style=\"text-align: right;\">\n",
       "      <th></th>\n",
       "      <th>sum_sq</th>\n",
       "      <th>df</th>\n",
       "      <th>F</th>\n",
       "      <th>PR(&gt;F)</th>\n",
       "    </tr>\n",
       "  </thead>\n",
       "  <tbody>\n",
       "    <tr>\n",
       "      <th>C(fA)</th>\n",
       "      <td>60.5</td>\n",
       "      <td>1.0</td>\n",
       "      <td>40.333333</td>\n",
       "      <td>0.003150</td>\n",
       "    </tr>\n",
       "    <tr>\n",
       "      <th>C(fB)</th>\n",
       "      <td>684.5</td>\n",
       "      <td>1.0</td>\n",
       "      <td>456.333333</td>\n",
       "      <td>0.000028</td>\n",
       "    </tr>\n",
       "    <tr>\n",
       "      <th>C(fA):C(fB)</th>\n",
       "      <td>760.5</td>\n",
       "      <td>1.0</td>\n",
       "      <td>507.000000</td>\n",
       "      <td>0.000023</td>\n",
       "    </tr>\n",
       "    <tr>\n",
       "      <th>Residual</th>\n",
       "      <td>6.0</td>\n",
       "      <td>4.0</td>\n",
       "      <td>NaN</td>\n",
       "      <td>NaN</td>\n",
       "    </tr>\n",
       "  </tbody>\n",
       "</table>\n",
       "</div>"
      ],
      "text/plain": [
       "             sum_sq   df           F    PR(>F)\n",
       "C(fA)          60.5  1.0   40.333333  0.003150\n",
       "C(fB)         684.5  1.0  456.333333  0.000028\n",
       "C(fA):C(fB)   760.5  1.0  507.000000  0.000023\n",
       "Residual        6.0  4.0         NaN       NaN"
      ]
     },
     "execution_count": 107,
     "metadata": {},
     "output_type": "execute_result"
    }
   ],
   "source": [
    "lm_model = ols('values ~ C(fA) * C(fB)', data = df).fit()\n",
    "#строим ANOVA таблицу\n",
    "table = sm.stats.anova_lm(lm_model, typ=2)\n",
    "table"
   ]
  },
  {
   "cell_type": "code",
   "execution_count": null,
   "id": "08265c1f",
   "metadata": {},
   "outputs": [],
   "source": []
  }
 ],
 "metadata": {
  "kernelspec": {
   "display_name": "Python 3 (ipykernel)",
   "language": "python",
   "name": "python3"
  },
  "language_info": {
   "codemirror_mode": {
    "name": "ipython",
    "version": 3
   },
   "file_extension": ".py",
   "mimetype": "text/x-python",
   "name": "python",
   "nbconvert_exporter": "python",
   "pygments_lexer": "ipython3",
   "version": "3.9.13"
  }
 },
 "nbformat": 4,
 "nbformat_minor": 5
}
