{
 "cells": [
  {
   "cell_type": "code",
   "execution_count": 1,
   "id": "8cb7396b",
   "metadata": {},
   "outputs": [],
   "source": [
    "import numpy as np\n",
    "import matplotlib.pyplot as plt\n",
    "import scipy.stats as stats"
   ]
  },
  {
   "cell_type": "code",
   "execution_count": 6,
   "id": "2f7683e3",
   "metadata": {},
   "outputs": [
    {
     "data": {
      "text/plain": [
       "(array([27, 37, 42, 48, 57, 56, 77, 80]),\n",
       " array([1.2, 1.6, 1.8, 1.8, 2.5, 2.6, 3. , 3.3]))"
      ]
     },
     "execution_count": 6,
     "metadata": {},
     "output_type": "execute_result"
    }
   ],
   "source": [
    "s=np.array([27, 37, 42, 48, 57, 56, 77, 80])\n",
    "p=np.array([1.2, 1.6, 1.8, 1.8, 2.5, 2.6, 3, 3.3])\n",
    "s, p"
   ]
  },
  {
   "cell_type": "code",
   "execution_count": 7,
   "id": "d231a263",
   "metadata": {},
   "outputs": [
    {
     "data": {
      "text/plain": [
       "array([[1.        , 0.97857682],\n",
       "       [0.97857682, 1.        ]])"
      ]
     },
     "execution_count": 7,
     "metadata": {},
     "output_type": "execute_result"
    }
   ],
   "source": [
    "np.corrcoef(p, s)"
   ]
  },
  {
   "cell_type": "code",
   "execution_count": 8,
   "id": "9e73cdec",
   "metadata": {},
   "outputs": [
    {
     "data": {
      "text/plain": [
       "<function matplotlib.pyplot.show(close=None, block=None)>"
      ]
     },
     "execution_count": 8,
     "metadata": {},
     "output_type": "execute_result"
    },
    {
     "data": {
      "image/png": "[encoded data removed]",
      "text/plain": [
       "<Figure size 640x480 with 1 Axes>"
      ]
     },
     "metadata": {},
     "output_type": "display_data"
    }
   ],
   "source": [
    "plt.scatter(s, p)\n",
    "plt.show"
   ]
  },
  {
   "cell_type": "markdown",
   "id": "e9112e65",
   "metadata": {},
   "source": [
    "Ковариация"
   ]
  },
  {
   "cell_type": "code",
   "execution_count": 9,
   "id": "cb343f98",
   "metadata": {},
   "outputs": [
    {
     "data": {
      "text/plain": [
       "11.662500000000023"
      ]
     },
     "execution_count": 9,
     "metadata": {},
     "output_type": "execute_result"
    }
   ],
   "source": [
    "cov = np.mean(s*p) - np.mean(s)*np.mean(p)\n",
    "cov"
   ]
  },
  {
   "cell_type": "code",
   "execution_count": 11,
   "id": "89df5863",
   "metadata": {},
   "outputs": [
    {
     "data": {
      "text/plain": [
       "array([[344.        ,  13.32857143],\n",
       "       [ 13.32857143,   0.53928571]])"
      ]
     },
     "execution_count": 11,
     "metadata": {},
     "output_type": "execute_result"
    }
   ],
   "source": [
    "np.cov(s,p)"
   ]
  },
  {
   "cell_type": "code",
   "execution_count": 12,
   "id": "cedef74e",
   "metadata": {},
   "outputs": [
    {
     "data": {
      "text/plain": [
       "array([[344.        ,  13.32857143],\n",
       "       [ 13.32857143,   0.53928571]])"
      ]
     },
     "execution_count": 12,
     "metadata": {},
     "output_type": "execute_result"
    }
   ],
   "source": [
    "np.cov(s, p, ddof=1)"
   ]
  },
  {
   "cell_type": "code",
   "execution_count": 13,
   "id": "2f0f7438",
   "metadata": {},
   "outputs": [
    {
     "data": {
      "text/plain": [
       "18.547236990991408"
      ]
     },
     "execution_count": 13,
     "metadata": {},
     "output_type": "execute_result"
    }
   ],
   "source": [
    "np.std(s,ddof=1)"
   ]
  },
  {
   "cell_type": "code",
   "execution_count": 16,
   "id": "8b8f599a",
   "metadata": {},
   "outputs": [
    {
     "data": {
      "text/plain": [
       "0.7343607521414215"
      ]
     },
     "execution_count": 16,
     "metadata": {},
     "output_type": "execute_result"
    }
   ],
   "source": [
    "np.std(p, ddof=1)"
   ]
  },
  {
   "cell_type": "markdown",
   "id": "ab416868",
   "metadata": {},
   "source": [
    "Коэффициент Пирсона"
   ]
  },
  {
   "cell_type": "code",
   "execution_count": 15,
   "id": "9776a3f7",
   "metadata": {},
   "outputs": [
    {
     "data": {
      "text/plain": [
       "array([[25.25630208,  0.97857682],\n",
       "       [ 0.97857682,  0.03959408]])"
      ]
     },
     "execution_count": 15,
     "metadata": {},
     "output_type": "execute_result"
    }
   ],
   "source": [
    "np.cov(s,p, ddof=1)/(np.std(s,ddof=1)*np.std(p,ddof=1))"
   ]
  },
  {
   "cell_type": "markdown",
   "id": "7b8236c0",
   "metadata": {},
   "source": [
    "Коэффициент корреляции Спирмена"
   ]
  },
  {
   "cell_type": "code",
   "execution_count": 18,
   "id": "30aebe84",
   "metadata": {},
   "outputs": [
    {
     "data": {
      "text/plain": [
       "SpearmanrResult(correlation=0.9700772721497398, pvalue=6.548558831120599e-05)"
      ]
     },
     "execution_count": 18,
     "metadata": {},
     "output_type": "execute_result"
    }
   ],
   "source": [
    "stats.spearmanr(p,s)"
   ]
  },
  {
   "cell_type": "code",
   "execution_count": 23,
   "id": "72ee7693",
   "metadata": {},
   "outputs": [],
   "source": [
    "s=np.array([27, 37, 42, 48, 57, 56, 77, 80])\n",
    "s1=np.array([1, 2, 3, 4, 5, 6, 7, 8])  # устанавливаем ранги для значений массива\n",
    "p=np.array([1.2, 1.6, 1.8, 1.8, 2.6, 2.5, 3, 3.3])\n",
    "p1=np.array([1, 2, 3.5, 3.5, 6, 5, 7, 8])  # устанавиливем ранги для значений массива"
   ]
  },
  {
   "cell_type": "code",
   "execution_count": 24,
   "id": "caace451",
   "metadata": {},
   "outputs": [
    {
     "data": {
      "text/plain": [
       "array([[1.        , 0.97007727],\n",
       "       [0.97007727, 1.        ]])"
      ]
     },
     "execution_count": 24,
     "metadata": {},
     "output_type": "execute_result"
    }
   ],
   "source": [
    "np.corrcoef(s1, p1)"
   ]
  },
  {
   "cell_type": "code",
   "execution_count": null,
   "id": "ae8b61ad",
   "metadata": {},
   "outputs": [],
   "source": []
  }
 ],
 "metadata": {
  "kernelspec": {
   "display_name": "Python 3 (ipykernel)",
   "language": "python",
   "name": "python3"
  },
  "language_info": {
   "codemirror_mode": {
    "name": "ipython",
    "version": 3
   },
   "file_extension": ".py",
   "mimetype": "text/x-python",
   "name": "python",
   "nbconvert_exporter": "python",
   "pygments_lexer": "ipython3",
   "version": "3.9.13"
  }
 },
 "nbformat": 4,
 "nbformat_minor": 5
}
