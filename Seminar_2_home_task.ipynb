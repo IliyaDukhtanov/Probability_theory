{
 "cells": [
  {
   "cell_type": "markdown",
   "id": "fd44ca4e",
   "metadata": {},
   "source": [
    "**Домашнее задание ко второму семинару по теории вероятностей и математической статистике.     \n",
    "Дискретные распределения вероятностей**"
   ]
  },
  {
   "cell_type": "markdown",
   "id": "3779efa6",
   "metadata": {},
   "source": [
    "*Задача 1     \n",
    "Вероятность того, что стрелок попадет в мишень, выстрелив один раз, равна 0.8. Стрелок выстрелил 100 раз. Найдите вероятность того, что стрелок попадет в цель ровно 85 раз.*\n"
   ]
  },
  {
   "cell_type": "markdown",
   "id": "c0c7660a",
   "metadata": {},
   "source": [
    "n = 100 - число событий     \n",
    "k = 85 - количество положительных исходов     \n",
    "p = 0,8 - вероятность попадания в цель с первого выстрела     \n",
    "Применим формулу Бернулли $\\displaystyle P_n(X=k)=C^k_n * p^k * q^{n-k}$     \n",
    "$P_{100}(X=85)=C^{85}_{100}*0.8^{85}*0.2^{15}=\\frac{100!}{85!(100-85)!}*0.8^{85}*0.2^{15}$     \n",
    "Рассчитаем: \n"
   ]
  },
  {
   "cell_type": "code",
   "execution_count": 1,
   "id": "5e30f7a0",
   "metadata": {},
   "outputs": [],
   "source": [
    "from math import factorial, exp\n",
    "def bernulli(n, k, p):\n",
    "    comb=factorial(n)/(factorial(k)*factorial(n-k))\n",
    "    return comb*(p**k)*(1-p)**(n-k)"
   ]
  },
  {
   "cell_type": "code",
   "execution_count": 10,
   "id": "3ed42af2",
   "metadata": {},
   "outputs": [
    {
     "name": "stdout",
     "output_type": "stream",
     "text": [
      "Вероятность того, что стрелок попадёт в цель ровно 85 раз P =  0.0481\n"
     ]
    }
   ],
   "source": [
    "print(f'Вероятность того, что стрелок попадёт в цель ровно 85 раз P = {bernulli(100,85,0.8): .4f}')"
   ]
  },
  {
   "cell_type": "markdown",
   "id": "2405f355",
   "metadata": {},
   "source": [
    " "
   ]
  },
  {
   "cell_type": "markdown",
   "id": "94b64312",
   "metadata": {},
   "source": [
    "*Задача 2      \n",
    "Вероятность того, что лампочка перегорит в течение первого дня эксплуатации, равна 0.0004. В жилом комплексе после ремонта в один день включили 5000 новых лампочек.*      \n",
    "*1) Какова вероятность, что ни одна из них не перегорит в первый день?*      \n",
    "*2) Какова вероятность, что перегорят ровно две?*"
   ]
  },
  {
   "cell_type": "markdown",
   "id": "36682fe5",
   "metadata": {},
   "source": [
    "p = 0,0004 - вероятность перегорания лампочки в первый день     \n",
    "n = 5000 - количество всключенных одновременно лампочек (испытаний)     \n",
    "λ = n * p = 2 - среднее количество наступления события за единицу измерения\n",
    "Применим формулу Пуассона: $\\displaystyle P_m≈\\frac{\\lambda^m}{m!}* e^{-\\lambda}$    "
   ]
  },
  {
   "cell_type": "code",
   "execution_count": 4,
   "id": "836dd6fd",
   "metadata": {},
   "outputs": [],
   "source": [
    "def poisson(n, p, m):\n",
    "    lamb = n * p\n",
    "    return lamb ** m * exp(-lamb) / factorial(m)"
   ]
  },
  {
   "cell_type": "markdown",
   "id": "8dbe1ca5",
   "metadata": {},
   "source": [
    "1) Какова вероятность, что ни одна лампочка не перегорит в первый день?     \n",
    "в этом случае m = 0    \n",
    "Расситаем: "
   ]
  },
  {
   "cell_type": "code",
   "execution_count": 7,
   "id": "842710ce",
   "metadata": {},
   "outputs": [
    {
     "name": "stdout",
     "output_type": "stream",
     "text": [
      "Вероятность, что ни одна лампочка не перегорит в первый день P≈ 0.1353\n"
     ]
    }
   ],
   "source": [
    "print(f\"Вероятность, что ни одна лампочка не перегорит в первый день P ≈{poisson(5000, 0.0004, 0): .4f}\")"
   ]
  },
  {
   "cell_type": "markdown",
   "id": "1002515a",
   "metadata": {},
   "source": [
    "2) Какова вероятность, что в первый день перегорят ровно две лампочки?     \n",
    "в данном случае m = 2     \n",
    "Рассчитаем: "
   ]
  },
  {
   "cell_type": "code",
   "execution_count": 9,
   "id": "04d8e015",
   "metadata": {},
   "outputs": [
    {
     "name": "stdout",
     "output_type": "stream",
     "text": [
      "Вероятность, что две лампочки перегорят в первый день P ≈ 0.2707\n"
     ]
    }
   ],
   "source": [
    "print(f\"Вероятность, что две лампочки перегорят в первый день P ≈{poisson(5000, 0.0004, 2): .4f}\")"
   ]
  },
  {
   "cell_type": "markdown",
   "id": "089b5681",
   "metadata": {},
   "source": [
    " "
   ]
  },
  {
   "cell_type": "markdown",
   "id": "b2642760",
   "metadata": {},
   "source": [
    "*Задача 3    \n",
    "Монету подбросили 144 раза.    \n",
    "Какова вероятность, что орел выпадет ровно 70 раз?*"
   ]
  },
  {
   "cell_type": "markdown",
   "id": "541ac992",
   "metadata": {},
   "source": [
    "Применим формулу Бернулли $\\displaystyle P_n(X=k)=C^k_n * p^k * q^{n-k}$    \n",
    "где    \n",
    "n = 144 - количество испытаний    \n",
    "p = $\\displaystyle \\frac{m}{n}=\\frac{1}{2}$ - вероятность выпадения орла  \n",
    "q = 1 - p\n",
    "k = 70 - количество положительных исходов \n",
    "$P_{144}(X=70)=C^{70}_{144}*0.5^{70}*(1-0.5)^{144-70}=\\frac{144!}{70!*(144-70)!}*0.5^{70}*0.5^{74}$     \n",
    "Рассчитаем: "
   ]
  },
  {
   "cell_type": "code",
   "execution_count": 11,
   "id": "c59a8183",
   "metadata": {},
   "outputs": [
    {
     "name": "stdout",
     "output_type": "stream",
     "text": [
      "Вероятность того, что орёл выпадет 70 раз P =  0.0628\n"
     ]
    }
   ],
   "source": [
    "print(f'Вероятность того, что орёл выпадет 70 раз P = {bernulli(144,70,0.5): .4f}')"
   ]
  },
  {
   "cell_type": "markdown",
   "id": "93dbe737",
   "metadata": {},
   "source": [
    " "
   ]
  },
  {
   "cell_type": "markdown",
   "id": "3e06ff40",
   "metadata": {},
   "source": [
    "*Задача 4.   \n",
    "В первом ящике находится 10 мячей, из которых 7 - белые. Во втором ящике - 11 мячей, из которых 9 белых. Из каждого ящика вытаскивают случайным образом по два мяча.     \n",
    "*1) Какова вероятность того, что все мячи белые?     \n",
    "*2) Какова вероятность того, что ровно два мяча белые?     \n",
    "*3) Какова вероятность того, что хотя бы один мяч белый?*\n"
   ]
  },
  {
   "cell_type": "markdown",
   "id": "db0cfb43",
   "metadata": {},
   "source": [
    "Найдем количество сочетаний для каждого ящика:    \n",
    "Первый ящик: $\\displaystyle n_1=C^2_{10}$    \n",
    "Второй ящик: $\\displaystyle n_2=C^2_{11}$"
   ]
  },
  {
   "cell_type": "code",
   "execution_count": 18,
   "id": "6dacc370",
   "metadata": {},
   "outputs": [],
   "source": [
    "from math import factorial\n",
    "def combinations(n, k):\n",
    "    return int(factorial(n) / (factorial(k) * factorial(n - k)))"
   ]
  },
  {
   "cell_type": "markdown",
   "id": "f376db5b",
   "metadata": {},
   "source": [
    "1) Какова вероятность того, что все мячи белые?    \n",
    "Из первго ящика достали два белых мяча $\\displaystyle C^2_{7}$     \n",
    "**И**     \n",
    "из второго ящика достали два белых мяча $\\displaystyle C^2_{9}$   \n",
    "Вероятность равна  $\\displaystyle P=\\frac{C^2_7}{C^2_{10}}*\\frac{C^2_9}{C^2_{11}}$"
   ]
  },
  {
   "cell_type": "code",
   "execution_count": 19,
   "id": "ea0139ab",
   "metadata": {},
   "outputs": [
    {
     "name": "stdout",
     "output_type": "stream",
     "text": [
      "Вероятность того, что все мячи белые P =  0.3055\n"
     ]
    }
   ],
   "source": [
    "print(f'Вероятность того, что все мячи белые P = {(combinations(7,2)/combinations(10,2)*combinations(9,2)/combinations(11,2)): .4f}')\n"
   ]
  },
  {
   "cell_type": "markdown",
   "id": "32a8b606",
   "metadata": {},
   "source": [
    "2) Какова вероятность того, что ровно два мяча белые?   \n",
    "Рассмотрим варианты:"
   ]
  },
  {
   "cell_type": "markdown",
   "id": "204eaa62",
   "metadata": {},
   "source": [
    "а) \tДва белых мяча достали из первого ящика $\\displaystyle C^2_7$   \n",
    "**И**   \n",
    "два не белых мяча достали из второго ящика $\\displaystyle C^2_2$   \n",
    "$\\displaystyle P=\\frac{C^2_7}{C^2_{10}}*\\frac{C^2_2}{C^2_{11}}$"
   ]
  },
  {
   "cell_type": "markdown",
   "id": "66f92e47",
   "metadata": {},
   "source": [
    "б) \tДва белых мяча достали из второго ящика $\\displaystyle C^2_9$    \n",
    "**И**    \n",
    "два не белых мяча достали из первого ящика $\\displaystyle C^2_3$   \n",
    "$\\displaystyle P=\\frac{C^2_9}{C^2_{11}}*\\frac{C^2_3}{C^2_{10}}$"
   ]
  },
  {
   "cell_type": "markdown",
   "id": "bfb306a8",
   "metadata": {},
   "source": [
    "в) \tИз первого ящика достали мячи: один белый $\\displaystyle C^1_7$ **и** один не белый $\\displaystyle C^1_3$    \n",
    "**И**    \n",
    "из второго ящика достали мячи: один белый $\\displaystyle C^1_9$ **и** один не белый $\\displaystyle C^1_2$   \n",
    "$\\displaystyle P=\\frac{C^1_7*С^1_3}{C^2_{10}}*\\frac{C^1_9*C^1_2}{C^2_{11}}$"
   ]
  },
  {
   "cell_type": "markdown",
   "id": "c6432858",
   "metadata": {},
   "source": [
    "Других вариантов нет.  \n",
    "Вероятность равна сумме вероятностей, указанных выше. \n",
    "$\\displaystyle P=\\frac{C^2_7}{C^2_{10}}*\\frac{C^2_2}{C^2_{11}}+\\frac{C^2_9}{C^2_{11}}*\\frac{C^2_3}{C^2_{10}}+\\frac{C^1_7*С^1_3}{C^2_{10}}*\\frac{C^1_9*C^1_2}{C^2_{11}}$   \n",
    "Рассчитаем:"
   ]
  },
  {
   "cell_type": "code",
   "execution_count": 25,
   "id": "96550f83",
   "metadata": {},
   "outputs": [
    {
     "name": "stdout",
     "output_type": "stream",
     "text": [
      "Вероятность того, что ровно два мяча белые P =  0.2048\n"
     ]
    }
   ],
   "source": [
    "print(f'Вероятность того, что ровно два мяча белые P = {(combinations(7,2)*combinations(2,2)+combinations(9,2)*combinations(3,2)+combinations(7,1)*combinations(3,1)*combinations(9,1)*combinations(2,1))/(combinations(10,2)*combinations(11,2)): .4f}')"
   ]
  },
  {
   "cell_type": "markdown",
   "id": "f44a3c6b",
   "metadata": {},
   "source": [
    "3) Какова вероятность того, что хотя бы один мяч белый?   \n",
    "Обратным событием будет вариант, когда ни один вытащенный мяч не оказался белым (вытащили четыре не белых мяча).\n",
    "Т.е. из первого ящика достали два не белых мяча $\\displaystyle C^2_3$    \n",
    "**И**    \n",
    "из второго ящика достали два не белых мяча $\\displaystyle C^2_2$   \n",
    "Искомая вероятность $\\displaystyle P=1-(\\frac{C^2_3}{C^2_{10}}*\\frac{C^2_2}{C^2_{11}})$   \n",
    "Рассчитаем: "
   ]
  },
  {
   "cell_type": "code",
   "execution_count": 26,
   "id": "d7e64e55",
   "metadata": {},
   "outputs": [
    {
     "name": "stdout",
     "output_type": "stream",
     "text": [
      "Вероятность того, что хотя бы один мяч окажется белым P =  0.9988\n"
     ]
    }
   ],
   "source": [
    "print(f'Вероятность того, что хотя бы один мяч окажется белым P = {1-(combinations(3,2)/combinations(10,2)*combinations(2,2)/combinations(11,2)): .4f}')"
   ]
  },
  {
   "cell_type": "code",
   "execution_count": null,
   "id": "8824c0a9",
   "metadata": {},
   "outputs": [],
   "source": []
  }
 ],
 "metadata": {
  "kernelspec": {
   "display_name": "Python 3 (ipykernel)",
   "language": "python",
   "name": "python3"
  },
  "language_info": {
   "codemirror_mode": {
    "name": "ipython",
    "version": 3
   },
   "file_extension": ".py",
   "mimetype": "text/x-python",
   "name": "python",
   "nbconvert_exporter": "python",
   "pygments_lexer": "ipython3",
   "version": "3.9.13"
  }
 },
 "nbformat": 4,
 "nbformat_minor": 5
}
